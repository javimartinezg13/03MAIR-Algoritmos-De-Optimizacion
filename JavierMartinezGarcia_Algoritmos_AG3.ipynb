{
  "nbformat": 4,
  "nbformat_minor": 0,
  "metadata": {
    "colab": {
      "name": "JavierMartinezGarcia - Algoritmos - AG3.ipynb",
      "provenance": [],
      "collapsed_sections": [],
      "authorship_tag": "ABX9TyNVJqB5EPjpjss6bFJW68lU",
      "include_colab_link": true
    },
    "kernelspec": {
      "name": "python3",
      "display_name": "Python 3"
    }
  },
  "cells": [
    {
      "cell_type": "markdown",
      "metadata": {
        "id": "view-in-github",
        "colab_type": "text"
      },
      "source": [
        "<a href=\"https://colab.research.google.com/github/javimartinezg13/03MAIR-Algoritmos-De-Optimizacion/blob/main/JavierMartinezGarcia_Algoritmos_AG3.ipynb\" target=\"_parent\"><img src=\"https://colab.research.google.com/assets/colab-badge.svg\" alt=\"Open In Colab\"/></a>"
      ]
    },
    {
      "cell_type": "markdown",
      "metadata": {
        "id": "JHrOerguu4_i"
      },
      "source": [
        "#Algoritmos de optimización - Actividad guiada 3\r\n",
        "\r\n",
        "Nombre: Javier Martínez García\r\n",
        "\r\n",
        "URL: [https://colab.research.google.com/drive/13r1wBipg2ZyTb8mu4g-dR9H4MoCQSvdi?usp=sharing](https://colab.research.google.com/drive/13r1wBipg2ZyTb8mu4g-dR9H4MoCQSvdi?usp=sharing)\r\n",
        "\r\n",
        "GitHub: [https://github.com/javimartinezg13/03MAIR-Algoritmos-De-Optimizacion](https://github.com/javimartinezg13/03MAIR-Algoritmos-De-Optimizacion)"
      ]
    },
    {
      "cell_type": "code",
      "metadata": {
        "colab": {
          "base_uri": "https://localhost:8080/"
        },
        "id": "dhZEExPCvKlg",
        "outputId": "974447f4-321f-4431-b096-35d64a347669"
      },
      "source": [
        "!pip install requests    #Hacer llamadas http a paginas de la red\r\n",
        "!pip install tsplib95    #Modulo para las instancias del problema del TSP"
      ],
      "execution_count": null,
      "outputs": [
        {
          "output_type": "stream",
          "text": [
            "Requirement already satisfied: requests in /usr/local/lib/python3.6/dist-packages (2.23.0)\n",
            "Requirement already satisfied: urllib3!=1.25.0,!=1.25.1,<1.26,>=1.21.1 in /usr/local/lib/python3.6/dist-packages (from requests) (1.24.3)\n",
            "Requirement already satisfied: certifi>=2017.4.17 in /usr/local/lib/python3.6/dist-packages (from requests) (2020.12.5)\n",
            "Requirement already satisfied: chardet<4,>=3.0.2 in /usr/local/lib/python3.6/dist-packages (from requests) (3.0.4)\n",
            "Requirement already satisfied: idna<3,>=2.5 in /usr/local/lib/python3.6/dist-packages (from requests) (2.10)\n",
            "Collecting tsplib95\n",
            "  Downloading https://files.pythonhosted.org/packages/a0/2b/b1932d3674758ec5f49afa72d4519334a5ac2aac4d96cfd416eb872a1959/tsplib95-0.7.1-py2.py3-none-any.whl\n",
            "Requirement already satisfied: Click>=6.0 in /usr/local/lib/python3.6/dist-packages (from tsplib95) (7.1.2)\n",
            "Collecting Deprecated~=1.2.9\n",
            "  Downloading https://files.pythonhosted.org/packages/76/a1/05d7f62f956d77b23a640efc650f80ce24483aa2f85a09c03fb64f49e879/Deprecated-1.2.10-py2.py3-none-any.whl\n",
            "Requirement already satisfied: tabulate~=0.8.7 in /usr/local/lib/python3.6/dist-packages (from tsplib95) (0.8.7)\n",
            "Requirement already satisfied: networkx~=2.1 in /usr/local/lib/python3.6/dist-packages (from tsplib95) (2.5)\n",
            "Requirement already satisfied: wrapt<2,>=1.10 in /usr/local/lib/python3.6/dist-packages (from Deprecated~=1.2.9->tsplib95) (1.12.1)\n",
            "Requirement already satisfied: decorator>=4.3.0 in /usr/local/lib/python3.6/dist-packages (from networkx~=2.1->tsplib95) (4.4.2)\n",
            "Installing collected packages: Deprecated, tsplib95\n",
            "Successfully installed Deprecated-1.2.10 tsplib95-0.7.1\n"
          ],
          "name": "stdout"
        }
      ]
    },
    {
      "cell_type": "code",
      "metadata": {
        "id": "4g6FL8om_v12"
      },
      "source": [
        "import tsplib95       #Modulo para las instancias del problema del TSP\r\n",
        "import random         #Modulo para generar números aleatorios\r\n",
        "from math import e    #constante e\r\n",
        "import copy \r\n",
        "import math          #Para copia profunda de estructuras de datos(en python la asignación es por referencia)"
      ],
      "execution_count": null,
      "outputs": []
    },
    {
      "cell_type": "code",
      "metadata": {
        "colab": {
          "base_uri": "https://localhost:8080/"
        },
        "id": "NfScQiP1_wAo",
        "outputId": "18381748-08e4-4dd9-8dcf-33e58a17f242"
      },
      "source": [
        "import urllib.request #Hacer llamadas http a paginas de la red\r\n",
        "\r\n",
        "#http://elib.zib.de/pub/mp-testdata/tsp/tsplib/\r\n",
        "#Documentacion : \r\n",
        "  # http://comopt.ifi.uni-heidelberg.de/software/TSPLIB95/tsp95.pdf\r\n",
        "  # https://tsplib95.readthedocs.io/en/stable/pages/usage.html\r\n",
        "  # https://tsplib95.readthedocs.io/en/v0.6.1/modules.html\r\n",
        "  # https://pypi.org/project/tsplib95/\r\n",
        "\r\n",
        "#Descargamos el fichero de datos(Matriz de distancias)\r\n",
        "file = \"swiss42.tsp\" ; \r\n",
        "urllib.request.urlretrieve(\"http://elib.zib.de/pub/mp-testdata/tsp/tsplib/tsp/swiss42.tsp\", file) \r\n",
        "\r\n",
        "#Coordendas 51-city problem (Christofides/Eilon)\r\n",
        "#file = \"eil51.tsp\" ; urllib.request.urlretrieve(\"http://elib.zib.de/pub/mp-testdata/tsp/tsplib/tsp/eil51.tsp\", file)\r\n",
        "\r\n",
        "#Coordenadas - 48 capitals of the US (Padberg/Rinaldi)\r\n",
        "#file = \"att48.tsp\" ; urllib.request.urlretrieve(\"http://elib.zib.de/pub/mp-testdata/tsp/tsplib/tsp/att48.tsp\", file)"
      ],
      "execution_count": null,
      "outputs": [
        {
          "output_type": "execute_result",
          "data": {
            "text/plain": [
              "('swiss42.tsp', <http.client.HTTPMessage at 0x7f29b7374e48>)"
            ]
          },
          "metadata": {
            "tags": []
          },
          "execution_count": 3
        }
      ]
    },
    {
      "cell_type": "code",
      "metadata": {
        "id": "Nh8bFoFf_wG1"
      },
      "source": [
        "#Modulos extras, no esenciales\r\n",
        "import numpy as np\r\n",
        "import matplotlib.pyplot as plt\r\n",
        "import imageio                    #Para construir las imagenes con gif\r\n",
        "from google.colab import files    #Para descargar ficheros generados con google colab\r\n",
        "\r\n",
        "from tempfile import mkstemp      #Para genera carpetas y ficheros temporales\r\n",
        "#import tempfile"
      ],
      "execution_count": null,
      "outputs": []
    },
    {
      "cell_type": "code",
      "metadata": {
        "id": "T3JTyg3j_wK1"
      },
      "source": [
        "#Carga de datos y generación de objeto problem\r\n",
        "\r\n",
        "problem = tsplib95.load(file)\r\n",
        "\r\n",
        "#Nodos\r\n",
        "Nodos = list(problem.get_nodes())\r\n",
        "\r\n",
        "#Aristas\r\n",
        "Aristas = list(problem.get_edges())"
      ],
      "execution_count": null,
      "outputs": []
    },
    {
      "cell_type": "code",
      "metadata": {
        "colab": {
          "base_uri": "https://localhost:8080/"
        },
        "id": "wibibPqU_wOc",
        "outputId": "18cfb960-416f-45d6-d3cf-8ae9e52c365d"
      },
      "source": [
        "#Probamos algunas funciones del objeto problem\r\n",
        "\r\n",
        "#Distancia entre nodos\r\n",
        "problem.get_weight(0, 1)\r\n",
        "\r\n",
        "#Todas las funciones\r\n",
        "#Documentación: https://tsplib95.readthedocs.io/en/v0.6.1/modules.html\r\n",
        "#dir(problem)"
      ],
      "execution_count": null,
      "outputs": [
        {
          "output_type": "execute_result",
          "data": {
            "text/plain": [
              "15"
            ]
          },
          "metadata": {
            "tags": []
          },
          "execution_count": 6
        }
      ]
    },
    {
      "cell_type": "code",
      "metadata": {
        "id": "Ictg7w1X_wRz"
      },
      "source": [
        "#Funcionas basicas      \r\n",
        "     \r\n",
        "#Se genera una solucion aleatoria con comienzo en en el nodo 0\r\n",
        "def crear_solucion(Nodos): \r\n",
        "  solucion = [Nodos[0]]\r\n",
        "  for n in Nodos[1:]:\r\n",
        "    solucion = solucion + [random.choice(list(set(Nodos) - set({Nodos[0]}) - set(solucion)))]\r\n",
        "  return solucion \r\n",
        "\r\n",
        "#Devuelve la distancia entre dos nodos\r\n",
        "def distancia(a,b, problem):\r\n",
        "  return problem.get_weight(a,b)\r\n",
        "\r\n",
        "#Devuelve la distancia total de una trayectoria/solucion\r\n",
        "def distancia_total(solucion, problem):\r\n",
        "  distancia_total = 0\r\n",
        "  for i in range(len(solucion)-1):\r\n",
        "    distancia_total += distancia(solucion[i] ,solucion[i+1] ,  problem)\r\n",
        "  return distancia_total + distancia(solucion[len(solucion)-1] ,solucion[0], problem)"
      ],
      "execution_count": null,
      "outputs": []
    },
    {
      "cell_type": "code",
      "metadata": {
        "colab": {
          "base_uri": "https://localhost:8080/"
        },
        "id": "RV8kfE45_wVC",
        "outputId": "92006275-0e68-45f3-ce4a-505c7e0a6cd7"
      },
      "source": [
        "def busqueda_aleatoria(problem, N):\r\n",
        "  \r\n",
        "  Nodos = list(problem.get_nodes())\r\n",
        "  \r\n",
        "  mejor_solucion = []\r\n",
        "  mejor_distancia = 10e100                          #Inicializamos con un valor alto\r\n",
        "  \r\n",
        "  for i in range(N):                                #Criterio de parada: repetir N veces pero podemos incluir otros\r\n",
        "    solucion = crear_solucion(Nodos)                #Genera una solucion aleatoria\r\n",
        "    distancia = distancia_total(solucion, problem)  #Calcula el valor objetivo(distancia total)\r\n",
        "    \r\n",
        "    if distancia < mejor_distancia:                 #Compara con la mejor obtenida hasta ahora\r\n",
        "      mejor_solucion = solucion\r\n",
        "      mejor_distancia = distancia\r\n",
        "      \r\n",
        "      \r\n",
        "  print(\"Mejor solución:\" , mejor_solucion) \r\n",
        "  print(\"Distancia     :\" , mejor_distancia) \r\n",
        "  return mejor_solucion  \r\n",
        "\r\n",
        "    \r\n",
        "    \r\n",
        "solucion = busqueda_aleatoria(problem, 5000)  "
      ],
      "execution_count": null,
      "outputs": [
        {
          "output_type": "stream",
          "text": [
            "Mejor solución: [0, 41, 23, 38, 21, 34, 16, 20, 32, 24, 40, 5, 1, 11, 8, 22, 13, 4, 9, 39, 15, 2, 3, 35, 36, 37, 12, 10, 7, 33, 30, 29, 26, 14, 18, 25, 28, 27, 6, 31, 17, 19]\n",
            "Distancia     : 3853\n"
          ],
          "name": "stdout"
        }
      ]
    },
    {
      "cell_type": "code",
      "metadata": {
        "colab": {
          "base_uri": "https://localhost:8080/"
        },
        "id": "KE9LOluV_wYK",
        "outputId": "21a77956-a14e-4a0a-d474-bb3131fa7bc2"
      },
      "source": [
        "def genera_vecina(solucion):\r\n",
        "  #Generador de soluciones vecinas: 2-opt (intercambiar 2 nodos) Si hay N nodos se generan (N-1)x(N-2)/2 soluciones\r\n",
        "  #print(solucion)\r\n",
        "  mejor_solucion = []\r\n",
        "  mejor_distancia = 10e100\r\n",
        "  for i in range(1,len(solucion)-1):          #Recorremos todos los nodos en bucle doble para evaluar todos los intercambios 2-opt\r\n",
        "    for j in range(i+1, len(solucion)):\r\n",
        "      \r\n",
        "      #Se genera una nueva solución intercambiando los dos nodos i,j:\r\n",
        "      #  (usamos el operador + que para listas en python las concatena) : ej.: [1,2] + [3] = [1,2,3]\r\n",
        "      vecina = solucion[:i] + [solucion[j]] + solucion[i+1:j] + [solucion[i]] + solucion[j+1:]  \r\n",
        "\r\n",
        "      #Se evalua la nueva solución ...\r\n",
        "      distancia_vecina = distancia_total(vecina, problem)         \r\n",
        "\r\n",
        "      #... para guardarla si mejora las anteriores\r\n",
        "      if distancia_vecina <= mejor_distancia:\r\n",
        "        mejor_distancia = distancia_vecina\r\n",
        "        mejor_solucion = vecina\r\n",
        "  return mejor_solucion\r\n",
        "\r\n",
        "\r\n",
        "#solucion = [1, 47, 13, 41, 40, 19, 42, 44, 37, 5, 22, 28, 3, 2, 29, 21, 50, 34, 30, 9, 16, 11, 38, 49, 10, 39, 33, 45, 15, 24, 43, 26, 31, 36, 35, 20, 8, 7, 23, 48, 27, 12, 17, 4, 18, 25, 14, 6, 51, 46, 32]\r\n",
        "print(\"Distancia Solucion Incial:\" , distancia_total(solucion, problem))\r\n",
        " \r\n",
        "\r\n",
        "nueva_solucion = genera_vecina(solucion)\r\n",
        "print(\"Distancia Solucion Local:\", distancia_total(nueva_solucion, problem))"
      ],
      "execution_count": null,
      "outputs": [
        {
          "output_type": "stream",
          "text": [
            "Distancia Solucion Incial: 3853\n",
            "Distancia Solucion Local: 3588\n"
          ],
          "name": "stdout"
        }
      ]
    },
    {
      "cell_type": "code",
      "metadata": {
        "id": "5S7PkuZUBvb7"
      },
      "source": [
        " "
      ],
      "execution_count": null,
      "outputs": []
    },
    {
      "cell_type": "code",
      "metadata": {
        "colab": {
          "base_uri": "https://localhost:8080/"
        },
        "id": "brE8Hi_7_wbp",
        "outputId": "dd432a6f-2917-4207-fdd5-32f889f06fcf"
      },
      "source": [
        "#Busqueda Local:\r\n",
        "#  - Sobre el operador de vecindad 2-opt(funcion genera_vecina)\r\n",
        "#  - Sin criterio de parada, se para cuando no es posible mejorar.\r\n",
        "def busqueda_local(problem):\r\n",
        "  mejor_solucion = []\r\n",
        "  \r\n",
        "  #Generar una solucion inicial de referencia(aleatoria)\r\n",
        "  solucion_referencia = crear_solucion(Nodos)\r\n",
        "  mejor_distancia = distancia_total(solucion_referencia, problem)\r\n",
        "\r\n",
        "  iteracion=0   #Un contador para saber las iteraciones que hacemos\r\n",
        "  while(1):\r\n",
        "    iteracion +=1     #Incrementamos el contador\r\n",
        "    #print('#',iteracion)\r\n",
        "\r\n",
        "    #Obtenemos la mejor vecina ...\r\n",
        "    vecina = genera_vecina(solucion_referencia)\r\n",
        "    #... y la evaluamos para ver si mejoramos respecto a lo encontrado hasta el momento\r\n",
        "    distancia_vecina = distancia_total(vecina, problem)\r\n",
        " \r\n",
        "    #Si no mejoramos hay que terminas. Hemos llegado a un minimo local(según nuestro operador de vencindad)\r\n",
        "    if distancia_vecina < mejor_distancia:\r\n",
        "      mejor_solucion = copy.deepcopy(vecina)   #Con copia profunda. Las copias en python son por referencia \r\n",
        "      mejor_distancia = distancia_vecina\r\n",
        "    else:\r\n",
        "      print(\"En la iteracion \", iteracion, \", la mejor solución encontrada es:\" , mejor_solucion) \r\n",
        "      print(\"Distancia     :\" , mejor_distancia) \r\n",
        "      return mejor_solucion\r\n",
        "      \r\n",
        "    solucion_referencia = vecina\r\n",
        " \r\n",
        " \r\n",
        "sol = busqueda_local(problem )  "
      ],
      "execution_count": null,
      "outputs": [
        {
          "output_type": "stream",
          "text": [
            "En la iteracion  39 , la mejor solución encontrada es: [0, 7, 1, 6, 4, 3, 2, 27, 28, 32, 20, 34, 30, 29, 39, 24, 40, 21, 23, 9, 22, 38, 33, 35, 36, 31, 17, 37, 15, 16, 14, 18, 12, 11, 13, 19, 5, 26, 10, 25, 41, 8]\n",
            "Distancia     : 1694\n"
          ],
          "name": "stdout"
        }
      ]
    },
    {
      "cell_type": "code",
      "metadata": {
        "colab": {
          "base_uri": "https://localhost:8080/"
        },
        "id": "HZf4nzsmBjC6",
        "outputId": "412927d5-bf98-47cf-c37f-f9fa5ee0431f"
      },
      "source": [
        "#Generador de 1 solucion vecina 2-opt aleatoria (intercambiar 2 nodos)\r\n",
        "def genera_vecina_aleatorio(solucion):\r\n",
        "\r\n",
        "  #Se eligen dos nodos aleatoriamente\r\n",
        "  i,j = sorted(random.sample( range(1,len(solucion)) , 2))\r\n",
        "  \r\n",
        "  #Devuelve una nueva solución pero intercambiando los dos nodos elegidos al azar\r\n",
        "  return solucion[:i] + [solucion[j]] + solucion[i+1:j] + [solucion[i]] + solucion[j+1:]\r\n",
        "  \r\n",
        " \r\n",
        "genera_vecina_aleatorio(solucion) "
      ],
      "execution_count": null,
      "outputs": [
        {
          "output_type": "execute_result",
          "data": {
            "text/plain": [
              "[0,\n",
              " 41,\n",
              " 23,\n",
              " 38,\n",
              " 21,\n",
              " 34,\n",
              " 16,\n",
              " 20,\n",
              " 32,\n",
              " 24,\n",
              " 40,\n",
              " 5,\n",
              " 1,\n",
              " 11,\n",
              " 8,\n",
              " 22,\n",
              " 13,\n",
              " 4,\n",
              " 9,\n",
              " 39,\n",
              " 15,\n",
              " 2,\n",
              " 3,\n",
              " 7,\n",
              " 36,\n",
              " 37,\n",
              " 12,\n",
              " 10,\n",
              " 35,\n",
              " 33,\n",
              " 30,\n",
              " 29,\n",
              " 26,\n",
              " 14,\n",
              " 18,\n",
              " 25,\n",
              " 28,\n",
              " 27,\n",
              " 6,\n",
              " 31,\n",
              " 17,\n",
              " 19]"
            ]
          },
          "metadata": {
            "tags": []
          },
          "execution_count": 11
        }
      ]
    },
    {
      "cell_type": "code",
      "metadata": {
        "id": "voyFXDC0Bjer"
      },
      "source": [
        "#Funcion de probabilidad para aceptar peores soluciones\r\n",
        "def probabilidad(T,d):\r\n",
        "  if random.random() <  math.exp( -1*d / T)  :\r\n",
        "    return True\r\n",
        "  else:\r\n",
        "    return False\r\n",
        "\r\n",
        "#Funcion de descenso de temperatura\r\n",
        "def bajar_temperatura(T):\r\n",
        "  return T*0.99\r\n",
        " \r\n",
        "def probabilidad(T,d):\r\n",
        "  if random.random() <  math.exp( -1*d / T)  :\r\n",
        "    return True\r\n",
        "  else:\r\n",
        "    return False"
      ],
      "execution_count": null,
      "outputs": []
    },
    {
      "cell_type": "code",
      "metadata": {
        "id": "CfbX4McHBnei"
      },
      "source": [
        ""
      ],
      "execution_count": null,
      "outputs": []
    },
    {
      "cell_type": "code",
      "metadata": {
        "colab": {
          "base_uri": "https://localhost:8080/"
        },
        "id": "7HybGVoRBjj1",
        "outputId": "1bffae91-d69e-467e-a33d-18cf5c18bb07"
      },
      "source": [
        "def recocido_simulado(problem, TEMPERATURA ):\r\n",
        "  #problem = datos del problema\r\n",
        "  #T = Temperatura\r\n",
        "  \r\n",
        "  solucion_referencia = crear_solucion(Nodos)\r\n",
        "  distancia_referencia = distancia_total(solucion_referencia, problem)\r\n",
        "  \r\n",
        "  mejor_solucion = []\r\n",
        "  mejor_distancia = 10e100\r\n",
        "  \r\n",
        "  \r\n",
        "  N=0\r\n",
        "  while TEMPERATURA > .0001:\r\n",
        "    N+=1\r\n",
        "    #Genera una solución vecina\r\n",
        "    vecina =genera_vecina_aleatorio(solucion_referencia)\r\n",
        "    \r\n",
        "    #Calcula su valor(distancia)\r\n",
        "    distancia_vecina = distancia_total(vecina, problem)\r\n",
        "      \r\n",
        "    #Si es la mejor solución de todas se guarda(siempre!!!)\r\n",
        "    if distancia_vecina < mejor_distancia:\r\n",
        "        mejor_solucion = vecina\r\n",
        "        mejor_distancia = distancia_vecina\r\n",
        "    \r\n",
        "    #Si la nueva vecina es mejor se cambia  \r\n",
        "    #Si es peor se cambia según una probabilidad que depende de T y delta(distancia_referencia - distancia_vecina)\r\n",
        "    if distancia_vecina < distancia_referencia or probabilidad(TEMPERATURA, abs(distancia_referencia - distancia_vecina) ) :\r\n",
        "      solucion_referencia = copy.deepcopy(vecina)\r\n",
        "      distancia_referencia = distancia_vecina\r\n",
        "\r\n",
        "    #Bajamos la temperatura\r\n",
        "    TEMPERATURA = bajar_temperatura(TEMPERATURA)\r\n",
        " \r\n",
        "  print(\"La mejor solución encontrada es \" , end=\"\")\r\n",
        "  print(mejor_solucion)\r\n",
        "  print(\"con una distancia total de \" , end=\"\")\r\n",
        "  print(mejor_distancia)\r\n",
        "  return mejor_solucion\r\n",
        "\r\n",
        "sol  = recocido_simulado(problem, 10000000)"
      ],
      "execution_count": null,
      "outputs": [
        {
          "output_type": "stream",
          "text": [
            "La mejor solución encontrada es [0, 30, 21, 40, 24, 39, 28, 19, 14, 16, 15, 36, 35, 31, 27, 23, 9, 22, 38, 34, 33, 20, 32, 1, 6, 4, 3, 2, 29, 8, 41, 10, 25, 26, 17, 37, 7, 5, 13, 11, 12, 18]\n",
            "con una distancia total de 2105\n"
          ],
          "name": "stdout"
        }
      ]
    }
  ]
}