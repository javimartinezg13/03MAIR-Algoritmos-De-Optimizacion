{
  "nbformat": 4,
  "nbformat_minor": 0,
  "metadata": {
    "colab": {
      "name": "Javier_Martinez_Garcia_Seminario.ipynb",
      "provenance": [],
      "collapsed_sections": [],
      "include_colab_link": true
    },
    "kernelspec": {
      "display_name": "Python 3",
      "name": "python3"
    }
  },
  "cells": [
    {
      "cell_type": "markdown",
      "metadata": {
        "id": "view-in-github",
        "colab_type": "text"
      },
      "source": [
        "<a href=\"https://colab.research.google.com/github/javimartinezg13/03MAIR-Algoritmos-De-Optimizacion/blob/main/Javier_Martinez_Garcia_Seminario.ipynb\" target=\"_parent\"><img src=\"https://colab.research.google.com/assets/colab-badge.svg\" alt=\"Open In Colab\"/></a>"
      ]
    },
    {
      "cell_type": "markdown",
      "metadata": {
        "id": "hVbXYX-RfPWh"
      },
      "source": [
        "# Algoritmos de optimización - Seminario<br>\n",
        "Nombre y Apellidos: Javier Martínez García\n",
        "\n",
        "Url GitHub: [https://github.com/javimartinezg13/03MAIR-Algoritmos-De-Optimizacion](https://github.com/javimartinezg13/03MAIR-Algoritmos-De-Optimizacion)\n",
        "\n",
        "Url Google Colab: [https://colab.research.google.com/drive/1yXm_SfsOoyc1aXuLqzf7x1790S3-s31i?usp=sharing](https://colab.research.google.com/drive/1yXm_SfsOoyc1aXuLqzf7x1790S3-s31i?usp=sharing)\n",
        "\n",
        "Problema:\n",
        ">**2. Organizar los horarios de partidos de La Liga**\n",
        "\n",
        "Descripción del problema:\n",
        "\n",
        "Desde la La Liga de fútbol profesional se pretende organizar los horarios de los partidos de liga de cada jornada. Se conocen algunos datos que nos deben llevar a diseñar un algoritmo que realice la asignación de los partidos a los horarios de forma que maximice la audiencia. \n",
        "\n",
        "Los horarios disponibles se conocen a priori y son los siguientes:\n",
        "\n",
        "| Día | Horarios |\n",
        "| -- | -- |\n",
        "| Viernes | 20  |\n",
        "| Sábado  | 12,16,18,20  |\n",
        "| Domingo  | 12,16,18,20 |\n",
        "| Lunes  |20 |\n",
        "\n",
        "En primer lugar se clasifican los equipos en tres categorías según el numero de seguidores que tienen relación directa con la audiencia. Hay **3 equipos** en la **categoría A**, **11 equipos** de **categoría B** y **6 equipos** de **categoría C**. \n",
        "\n",
        "\n",
        "Se conoce estadisticamente la audiencia que genera cada partido según los equipos que se enfrentan y en horario de sábado a las 20h (el mejor en todos los casos)\n",
        "\n",
        "|  | Categoria A | Categoria B | Categoria C |\n",
        "|-- | -- | -- | -- |\n",
        "| Categoria A | 2 Millones | 1,3 Millones | 1 Millones |\n",
        "| Categoria B |  | 0,9 Millones | 0.75 Millones |\n",
        "| Categoria C |  |  | 0.47 Millones |\n",
        "\n",
        "Si el horario del partido no se realiza a las 20 horas del sábado se sabe que se reduce según los coeficientes de la siguiente tabla \n",
        "\n",
        "Debemos asignar obligatoriamente siempre un partido el viernes y un partido el lunes Viernes Sábado Domingo Lunes\n",
        "\n",
        "| | Viernes | Sábado | Domingo | Lunes |\n",
        "| -- | -- | -- | -- | -- |\n",
        "| 12h | - | 0.55 | 0.45 | - |\n",
        "| 16h | - | 0.7 | 0.75 | - |\n",
        "| 18h | - | 0.8 | 0.5 | - |\n",
        "| 20h | 0.4 | 1 | 1 | 0.4 |\n",
        "\n",
        "Es posible la coincidencia de horarios pero en este caso la audiencia de cada partido se verá afectada y se estima que se reduce en porcentaje según la siguiente tabla dependiendo del número de coincidencias:\n",
        "\n",
        "| Coincidencias | -% |\n",
        "| -- | -- |\n",
        "| 0 | 0% |\n",
        "| 1 | 25% |\n",
        "| 2 | 45% |\n",
        "| 3 | 60% |\n",
        "| 4 | 70% |\n",
        "| 5 | 75% |\n",
        "| 6 | 78% |\n",
        "| 7 | 80% |\n",
        "| 8 | 80% |\n",
        "\n",
        "\n",
        "....\n",
        "\n",
        "                                        "
      ]
    },
    {
      "cell_type": "markdown",
      "metadata": {
        "id": "3_-exlrTgLd-"
      },
      "source": [
        "## EJERCICIO 1)\n",
        "\n",
        "(*)¿Cuantas posibilidades hay sin tener en cuenta las restricciones?<br>\n",
        "\n",
        "\n",
        "\n",
        "¿Cuantas posibilidades hay teniendo en cuenta todas las restricciones.\n",
        "\n",
        "\n"
      ]
    },
    {
      "cell_type": "markdown",
      "metadata": {
        "id": "WfCUqJyKhPcw"
      },
      "source": [
        "Respuesta"
      ]
    },
    {
      "cell_type": "markdown",
      "metadata": {
        "id": "QkcCTLZ3HVpw"
      },
      "source": [
        "Para empezar, hay que tener en cuenta que en la Liga Española de Fútbol van a participar un total de 20 equipos cada temporada. Por lo que en cada jornada que se dispute va a haber un total de 10 partidos.\r\n",
        "Cuando veíamos los horarios que teníamos en el enunciado de este ejercicio, reflejados en la primera y la segunda tabla, vemos que tenemos un total de 10 horarios distintos en los que podemos disputar cada uno de los partidos cada jornada.\r\n",
        "\r\n",
        "**¿Cuantas posibilidades hay sin tener en cuenta las restricciones?**\r\n",
        "\r\n",
        "Sin tener en cuenta ninguna de las restricciones y pudiendo disputar cada partido en cada uno de los horarios que hay disponibles, aunque haya coincidencias, habrá un total de **$10^{10}$ posibilidades**.\r\n",
        "\r\n",
        "**¿Cuantas posibilidades hay teniendo en cuenta todas las restricciones?**\r\n",
        "\r\n",
        "El objetivo principal de este problema va a ser maximizar la audiencia total en cada una de las jornadas de la Liga Española de Fútbol. Se nos da la obligación de que el lunes y el viernes se dispute al menos un partido en cada uno de ellos, y además, también nos dan la posibilidad de que se produzca coincidencia de varios partidos en un mismo horario, aunque esto iría acarreado de penalización.\r\n",
        "\r\n",
        "En resumen, como tenemos 10 horarios y 10 partidos cada jornada, y queremos maximizar la audiencia, a priori vamos a disputar un partido en cada horario y así evitar la penalización que se produce. Siguiendo esta idea, el número total de posibilidades que vamos a tener es de 10!, ya que cuando asignamos un partido a un determinado horario, ninguno de los restantes podrá asignarse a ese mismo. Por lo que, con estas restricciones tenemos un total de **$10!$ = 3628800 posibilidades**.\r\n"
      ]
    },
    {
      "cell_type": "markdown",
      "metadata": {
        "id": "dzynfVJahHoY"
      },
      "source": [
        "## EJERCICIO 2)\n",
        "\n",
        "Modelo para el espacio de soluciones<br>\n",
        "(*) ¿Cual es la estructura de datos que mejor se adapta al problema? Arguméntalo.\n"
      ]
    },
    {
      "cell_type": "markdown",
      "metadata": {
        "id": "LFNvT8UOV8lv"
      },
      "source": [
        "Para guardar los datos que se nos dan en el enunciado y que no van a cambiar a lo largo del problema vamos a usar **diccionarios**, ya que esto nos permite una fácil localización de cada uno de los datos con la categoría a la que pertenecen (usamos diccionarios para la audiencia en función de la categoría, para la reducción del coeficiente en función del horario y para los equipos de la Liga respecto a la categoría a la que pertenecen). En el caso de las reducciones en porcentajes cuando hay coincidencias vamos a utilizar un **array**.\r\n",
        "\r\n",
        "Cuando guardamos las jornadas creadas, con todos sus datos, vamos a usar **DataFrames** de *Pandas* debido a que se tratan de datos tabulares y nos van a permitir una clara presentación, con los datos perfectamente organizados y fácilmente accesibles. Con los datos organizados en un *DataFrame*, estos van a ser comprensibles para todo tipo de público."
      ]
    },
    {
      "cell_type": "markdown",
      "metadata": {
        "id": "xFIJrOwKi2Ti"
      },
      "source": [
        "Respuesta"
      ]
    },
    {
      "cell_type": "code",
      "metadata": {
        "colab": {
          "base_uri": "https://localhost:8080/",
          "height": 355
        },
        "id": "38c-7-ejhJmA",
        "outputId": "99f04072-7f78-4002-cb57-cd72adae351c"
      },
      "source": [
        "import pandas as pd\r\n",
        "import random\r\n",
        "#En un diccionario vamos a guardar las audiencias de los partidos en función de la \r\n",
        "#categoría de los equipos que se enfrentan en ellos:\r\n",
        "audiencia_categoria = {'AA':2000000,'AB':1300000,'AC':1000000,'BB':900000,'BC':750000,'CC':470000}\r\n",
        "\r\n",
        "#En este array vamos a tener las reducciones en porcentaje de la audiencia en función\r\n",
        "#del número de coincidencias de partidos que hay en el mismo horario (número de coincidencias\r\n",
        "#marcado por la posición que ocupan en el array):\r\n",
        "reduccion_porcentaje = [0,0.25,0.45,0.6,0.7,0.75,0.78,0.8,0.8]\r\n",
        "\r\n",
        "#En este nuevo diccionario vamos a guardar los coeficientes de reducción existentes \r\n",
        "#con respecto a que un partido determinado sea disputado en horario de sábado a las 20 horas:\r\n",
        "reduccion_coeficiente = [{'Viernes20h':0.4},{'Sábado12h':0.55},{'Sábado16h':0.7},\r\n",
        "                         {'Sábado18h':0.8},{'Sábado20h':1},{'Domingo12h':0.45},\r\n",
        "                         {'Domingo16h':0.75},{'Domingo18h':0.5},{'Domingo20h':1},{'Lunes20h':0.4}]\r\n",
        "\r\n",
        "#Por último, los distintos equipos que participan en la competición serán guardados en \r\n",
        "#un nuevo diccionario donde cada uno estará guardado en la llave correspondiente a \r\n",
        "#su categoría:\r\n",
        "categoria_equipos = {\r\n",
        "    'A':['Real Madrid','Barcelona','Atlético'],\r\n",
        "    'B':['Real Valladolid','Granada','Getafe','Levante','Celta','Athletic','Real Betis','Valencia','Real Sociedad','Villarreal','Sevilla'],\r\n",
        "    'C':['Huesca','Elche','Alavés','Osasuna','Eibar','Cádiz']\r\n",
        "}\r\n",
        "\r\n",
        "#Implementamos esta función para poder llevar a cabo la creación de jornadas aleatorias,\r\n",
        "#donde se devolverá un DataFrame que contendrá el enfrentamiento, además de la audiencia\r\n",
        "#de dicho partido y las categorías de ambos equipos:\r\n",
        "def jornada_aleatoria():\r\n",
        "  #En el diccionario contador tendremos la cantidad de equipos pertenecientes a cada \r\n",
        "  #categoría que hay, así vamos a poder saber a la hora de crear cada jornada y coger los\r\n",
        "  #equipos aleatoriamente, el número de equipos equipos restantes de cada categoría.\r\n",
        "  categoria_a = len(categoria_equipos['A'])\r\n",
        "  categoria_b = len(categoria_equipos['B'])\r\n",
        "  categoria_c = len(categoria_equipos['C'])\r\n",
        "  contador = {'A':categoria_a,'B':categoria_b,'C':categoria_c}\r\n",
        "  #Creamos el Dataframe vacío que al final va a ser el resultado de esta función:\r\n",
        "  partidos = pd.DataFrame(columns=['Partido','audiencia_partido','categoria_equipos'])\r\n",
        "  #En este bucle vamos a generar los 10 enfrentamientos de una jornada:\r\n",
        "  for i in range(10):\r\n",
        "    #Queremos un equipo local y otro vistante que se enfrenten en cada uno de los \r\n",
        "    #partidos, además de las categorías de ambos:   \r\n",
        "    equipo_local = equipo_aleatorio(contador)\r\n",
        "    equipo_visitante = equipo_aleatorio(contador)        \r\n",
        "    categorias_equipos = [equipo_local[0],equipo_visitante[0]]\r\n",
        "    #Vamos a ordenar estas categorías alfabéticamente para que más tarde, a la hora de \r\n",
        "    #llamar a 'audiencia_categoria', coincida con la composición de sus llaves:\r\n",
        "    categorias_equipos.sort()\r\n",
        "    categoria_partido = \"\".join(categorias_equipos)\r\n",
        "    #Vamos rellenando el DataFrame que va a ser nuestra solución con cada uno de los\r\n",
        "    #partidos y los datos que ya avisábamos anteriormente (audiencia y categorías):\r\n",
        "    partidos = partidos.append({\"Partido\":\"{} vs {}\".format(equipo_local[1],equipo_visitante[1]),\r\n",
        "                                \"audiencia_partido\":audiencia_categoria[categoria_partido],\r\n",
        "                                'categoria_equipos':categoria_partido},ignore_index=True)  \r\n",
        "  return partidos\r\n",
        "\r\n",
        "#A la hora de elegir los equipos local y visitante hacíamos una llamada a esta función.\r\n",
        "#Esta nos va a permitir elegir aleatoriamente uno de los equipos disponibles, y una vez elegido\r\n",
        "#eliminarlo para que no se repita de nuevo en otra jornada:\r\n",
        "def equipo_aleatorio(contador):\r\n",
        "  while True:\r\n",
        "    equipo = random.choice(['C','A','B'])\r\n",
        "    #Esta condición nos sirve para comprobar si todavía quedan equipos de una \r\n",
        "    #determinada categoría por seleccionar:\r\n",
        "    if (contador[equipo]>0):\r\n",
        "      nombre_equipo = categoria_equipos[equipo][contador[equipo]-1]\r\n",
        "      #De este manera cada vez que elegimos un equipo de una determinada categoría\r\n",
        "      #lo eliminaremos para que no se repita ese mismo equipo de nuevo:\r\n",
        "      contador[equipo] = contador[equipo] - 1\r\n",
        "      return equipo,nombre_equipo\r\n",
        "\r\n",
        "df_jornada = jornada_aleatoria()\r\n",
        "display(df_jornada)\r\n",
        "\r\n",
        "#Función para medir el tiempo de las distintas ejecuciones:\r\n",
        "from functools import wraps\r\n",
        "from time import time\r\n",
        "def duration(f):\r\n",
        "    @wraps(f)  \r\n",
        "    def timing(*args, **kwargs):\r\n",
        "        init = time()\r\n",
        "        fun_result = f(*args, **kwargs)\r\n",
        "        end = time()\r\n",
        "        print('Elapsed time %d ms' %((end - init)*1000))\r\n",
        "        return fun_result\r\n",
        "    return timing"
      ],
      "execution_count": null,
      "outputs": [
        {
          "output_type": "display_data",
          "data": {
            "text/html": [
              "<div>\n",
              "<style scoped>\n",
              "    .dataframe tbody tr th:only-of-type {\n",
              "        vertical-align: middle;\n",
              "    }\n",
              "\n",
              "    .dataframe tbody tr th {\n",
              "        vertical-align: top;\n",
              "    }\n",
              "\n",
              "    .dataframe thead th {\n",
              "        text-align: right;\n",
              "    }\n",
              "</style>\n",
              "<table border=\"1\" class=\"dataframe\">\n",
              "  <thead>\n",
              "    <tr style=\"text-align: right;\">\n",
              "      <th></th>\n",
              "      <th>Partido</th>\n",
              "      <th>audiencia_partido</th>\n",
              "      <th>categoria_equipos</th>\n",
              "    </tr>\n",
              "  </thead>\n",
              "  <tbody>\n",
              "    <tr>\n",
              "      <th>0</th>\n",
              "      <td>Cádiz vs Atlético</td>\n",
              "      <td>1000000</td>\n",
              "      <td>AC</td>\n",
              "    </tr>\n",
              "    <tr>\n",
              "      <th>1</th>\n",
              "      <td>Sevilla vs Villarreal</td>\n",
              "      <td>900000</td>\n",
              "      <td>BB</td>\n",
              "    </tr>\n",
              "    <tr>\n",
              "      <th>2</th>\n",
              "      <td>Eibar vs Real Sociedad</td>\n",
              "      <td>750000</td>\n",
              "      <td>BC</td>\n",
              "    </tr>\n",
              "    <tr>\n",
              "      <th>3</th>\n",
              "      <td>Barcelona vs Real Madrid</td>\n",
              "      <td>2000000</td>\n",
              "      <td>AA</td>\n",
              "    </tr>\n",
              "    <tr>\n",
              "      <th>4</th>\n",
              "      <td>Osasuna vs Valencia</td>\n",
              "      <td>750000</td>\n",
              "      <td>BC</td>\n",
              "    </tr>\n",
              "    <tr>\n",
              "      <th>5</th>\n",
              "      <td>Real Betis vs Athletic</td>\n",
              "      <td>900000</td>\n",
              "      <td>BB</td>\n",
              "    </tr>\n",
              "    <tr>\n",
              "      <th>6</th>\n",
              "      <td>Alavés vs Elche</td>\n",
              "      <td>470000</td>\n",
              "      <td>CC</td>\n",
              "    </tr>\n",
              "    <tr>\n",
              "      <th>7</th>\n",
              "      <td>Huesca vs Celta</td>\n",
              "      <td>750000</td>\n",
              "      <td>BC</td>\n",
              "    </tr>\n",
              "    <tr>\n",
              "      <th>8</th>\n",
              "      <td>Levante vs Getafe</td>\n",
              "      <td>900000</td>\n",
              "      <td>BB</td>\n",
              "    </tr>\n",
              "    <tr>\n",
              "      <th>9</th>\n",
              "      <td>Granada vs Real Valladolid</td>\n",
              "      <td>900000</td>\n",
              "      <td>BB</td>\n",
              "    </tr>\n",
              "  </tbody>\n",
              "</table>\n",
              "</div>"
            ],
            "text/plain": [
              "                      Partido audiencia_partido categoria_equipos\n",
              "0           Cádiz vs Atlético           1000000                AC\n",
              "1       Sevilla vs Villarreal            900000                BB\n",
              "2      Eibar vs Real Sociedad            750000                BC\n",
              "3    Barcelona vs Real Madrid           2000000                AA\n",
              "4         Osasuna vs Valencia            750000                BC\n",
              "5      Real Betis vs Athletic            900000                BB\n",
              "6             Alavés vs Elche            470000                CC\n",
              "7             Huesca vs Celta            750000                BC\n",
              "8           Levante vs Getafe            900000                BB\n",
              "9  Granada vs Real Valladolid            900000                BB"
            ]
          },
          "metadata": {
            "tags": []
          }
        }
      ]
    },
    {
      "cell_type": "markdown",
      "metadata": {
        "id": "7Z9U2W7bi-XS"
      },
      "source": [
        "## EJERCICIO 3)\n",
        "\n",
        "Según el modelo para el espacio de soluciones<br>\n",
        "(*)¿Cual es la función objetivo?\n",
        "\n",
        "(*)¿Es un problema de maximización o minimización?"
      ]
    },
    {
      "cell_type": "markdown",
      "metadata": {
        "id": "hBalWLM7j1_d"
      },
      "source": [
        "Respuesta"
      ]
    },
    {
      "cell_type": "markdown",
      "metadata": {
        "id": "xgGBW9u8Z7Gn"
      },
      "source": [
        "La **función objetivo** va a ser la siguiente:\r\n",
        "\r\n",
        "$$max(\\sum_{i=1}^{10}audiencias_i*coeficienteReducción_i*(1-porcentajeCoincidencias_i))$$\r\n",
        "\r\n",
        "Donde:\r\n",
        "1.   Donde **audiencias** hace referencia a la audiencia total de cada partido de una determinada jornada.\r\n",
        "2.   En el caso de **coeficienteReducción**, es la reducción que se produce en un determinado partido en función de su horario, con respecto a que el partido se dispute en el horario de sábado a las 20 horas.\r\n",
        "3.   Por último, **porcentajeCoincidencias** es la reducción en porcentaje de la audiencia que se produce cuando dos partidos son disputados en el mismo horario. Recordar que a la hora de implementar el problema, esto último no lo vamos a tener en cuenta.\r\n",
        "\r\n",
        "Queda claro que este problema se trata de un problema de **MAXIMACIÓN**, ya que queremos que en cada jornada, haya los partidos que haya, obtengamos la máxima audiencia posible."
      ]
    },
    {
      "cell_type": "markdown",
      "metadata": {
        "id": "rlnTYgY1j6I2"
      },
      "source": [
        "## EJERCICIO 4)\r\n",
        "\r\n",
        "Diseña un algoritmo para resolver el problema por fuerza bruta"
      ]
    },
    {
      "cell_type": "markdown",
      "metadata": {
        "id": "GyIbkaDuc62d"
      },
      "source": [
        "Para la resolución de este algoritmo por fuerza bruta, vamos a realizar, mediante la función *permutations*, sin variar el orden de los partidos que hemos obtenido mediante la función aleatoria para crear una jornada, una permutación para cada una de las opciones distintas que tenemos para asignar cada partido a un horario.\r\n",
        "\r\n",
        "Como ya hemos dicho que tenemos 10 horarios distintos y 10 partidos y no vamos a repetir, se realizarán un total de **10!** permutaciones, es decir, se valorarán un total de 3628800 posibilidades. Esto es un número altísimo (este programa nos tarda varias horas en darnos la solución óptima) por lo que el coste es también muy alto."
      ]
    },
    {
      "cell_type": "markdown",
      "metadata": {
        "id": "70rDgxYXkC8r"
      },
      "source": [
        "Respuesta"
      ]
    },
    {
      "cell_type": "code",
      "metadata": {
        "colab": {
          "base_uri": "https://localhost:8080/",
          "height": 407
        },
        "id": "CJb5sQ0qkENy",
        "outputId": "8b03d911-c352-46bf-b9b2-2041a9b034ed"
      },
      "source": [
        "from itertools import permutations\r\n",
        "\r\n",
        "#Creamos nuestra función que nos va a permitir resolver el problema por fuerza bruta:\r\n",
        "@duration\r\n",
        "def fuerza_bruta (jornada_liga):\r\n",
        "  mejor_audiencia_total = 0\r\n",
        "  mejor_horario = pd.DataFrame()\r\n",
        "  #Mediante la función permutaciones vamos a tener las 10! combinaciones diferentes \r\n",
        "  #de organizar los horarios de cada jornada de liga: \r\n",
        "  coeficientes_aleatorios = list(permutations(reduccion_coeficiente))\r\n",
        "  for i in range(len(coeficientes_aleatorios)):\r\n",
        "  #for i in range(100000):\r\n",
        "    coeficientes_iteracion = coeficientes_aleatorios[i]\r\n",
        "    audiencia_iteracion = 0\r\n",
        "    #Fusionamos el array de horarios al df              \r\n",
        "    jornada_liga['horario'] = coeficientes_iteracion\r\n",
        "    #Vamos a calcular la audiencia para cada uno de los partidos:\r\n",
        "    jornada_liga['audiencia'] = jornada_liga.apply(lambda item : calculo_audiencia(item),1)\r\n",
        "    #Calculamos la audiencia total para una jornada con los horarios ya fijados:\r\n",
        "    audiencia_iteracion = jornada_liga['audiencia'].sum()\r\n",
        "    #Vamos a ir tomando cada una de las audiencias totales calculadas dentro de las \r\n",
        "    #10! posibilidades que tenemos y nos vamos a quedar con la mayor de ellas:\r\n",
        "    if audiencia_iteracion > mejor_audiencia_total:\r\n",
        "      mejor_audiencia_total = audiencia_iteracion\r\n",
        "      mejor_horario = jornada_liga.copy()\r\n",
        "  #Esta función nos dará como solución la audiencia que nos ha quedado como mejor,\r\n",
        "  #además del DataFrame donde guardamos la jornada a partir de la cual hemos obtenido\r\n",
        "  #dicha audiencia:    \r\n",
        "  return mejor_horario,mejor_audiencia_total  \r\n",
        "\r\n",
        "#Funcion que implementa la formula, en nuestros algoritmos no hay posibilidad de repetición de horarios con lo que no realizamos el ajuste por coincidencia\r\n",
        "#En la anterior función hacíamos llamadas a esta cada vez que queríamos calcular la\r\n",
        "#audiencia para cada uno de los partidos. La forma de implementarla va a ser muy sencilla\r\n",
        "#ya que sólo vamos a tener que multiplicar la audiencia en función de los equipos que se enfrentan\r\n",
        "#por el coeficiente de reducción que teníamos respecto a si ese partido se ha disputado\r\n",
        "#el sábado a las 20 horas o no:\r\n",
        "def calculo_audiencia(item):  \r\n",
        "  return item['audiencia_partido'] * list(item['horario'].values())[0] \r\n",
        "    \r\n",
        "\r\n",
        "mejor_horario,mejor_audiencia_total = fuerza_bruta(df_jornada)\r\n",
        "print(\"La mejor audiencia que obtenemos después de resolver el problema mediante un algoritmo voraz: \",mejor_audiencia_total)\r\n",
        "print(\"El mejor horario que nos queda en este caso es: \")\r\n",
        "mejor_horario"
      ],
      "execution_count": null,
      "outputs": [
        {
          "output_type": "stream",
          "text": [
            "Elapsed time 3940710 ms\n",
            "La mejor audiencia que obtenemos después de resolver el problema mediante un algoritmo voraz:  6720500.0\n",
            "El mejor horario que nos queda en este caso es: \n"
          ],
          "name": "stdout"
        },
        {
          "output_type": "execute_result",
          "data": {
            "text/html": [
              "<div>\n",
              "<style scoped>\n",
              "    .dataframe tbody tr th:only-of-type {\n",
              "        vertical-align: middle;\n",
              "    }\n",
              "\n",
              "    .dataframe tbody tr th {\n",
              "        vertical-align: top;\n",
              "    }\n",
              "\n",
              "    .dataframe thead th {\n",
              "        text-align: right;\n",
              "    }\n",
              "</style>\n",
              "<table border=\"1\" class=\"dataframe\">\n",
              "  <thead>\n",
              "    <tr style=\"text-align: right;\">\n",
              "      <th></th>\n",
              "      <th>Partido</th>\n",
              "      <th>audiencia_partido</th>\n",
              "      <th>categoria_equipos</th>\n",
              "      <th>horario</th>\n",
              "      <th>audiencia</th>\n",
              "    </tr>\n",
              "  </thead>\n",
              "  <tbody>\n",
              "    <tr>\n",
              "      <th>0</th>\n",
              "      <td>Cádiz vs Atlético</td>\n",
              "      <td>1000000</td>\n",
              "      <td>AC</td>\n",
              "      <td>{'Sábado20h': 1}</td>\n",
              "      <td>1000000.0</td>\n",
              "    </tr>\n",
              "    <tr>\n",
              "      <th>1</th>\n",
              "      <td>Sevilla vs Villarreal</td>\n",
              "      <td>900000</td>\n",
              "      <td>BB</td>\n",
              "      <td>{'Sábado12h': 0.55}</td>\n",
              "      <td>495000.0</td>\n",
              "    </tr>\n",
              "    <tr>\n",
              "      <th>2</th>\n",
              "      <td>Eibar vs Real Sociedad</td>\n",
              "      <td>750000</td>\n",
              "      <td>BC</td>\n",
              "      <td>{'Viernes20h': 0.4}</td>\n",
              "      <td>300000.0</td>\n",
              "    </tr>\n",
              "    <tr>\n",
              "      <th>3</th>\n",
              "      <td>Barcelona vs Real Madrid</td>\n",
              "      <td>2000000</td>\n",
              "      <td>AA</td>\n",
              "      <td>{'Domingo20h': 1}</td>\n",
              "      <td>2000000.0</td>\n",
              "    </tr>\n",
              "    <tr>\n",
              "      <th>4</th>\n",
              "      <td>Osasuna vs Valencia</td>\n",
              "      <td>750000</td>\n",
              "      <td>BC</td>\n",
              "      <td>{'Domingo12h': 0.45}</td>\n",
              "      <td>337500.0</td>\n",
              "    </tr>\n",
              "    <tr>\n",
              "      <th>5</th>\n",
              "      <td>Real Betis vs Athletic</td>\n",
              "      <td>900000</td>\n",
              "      <td>BB</td>\n",
              "      <td>{'Sábado16h': 0.7}</td>\n",
              "      <td>630000.0</td>\n",
              "    </tr>\n",
              "    <tr>\n",
              "      <th>6</th>\n",
              "      <td>Alavés vs Elche</td>\n",
              "      <td>470000</td>\n",
              "      <td>CC</td>\n",
              "      <td>{'Lunes20h': 0.4}</td>\n",
              "      <td>188000.0</td>\n",
              "    </tr>\n",
              "    <tr>\n",
              "      <th>7</th>\n",
              "      <td>Huesca vs Celta</td>\n",
              "      <td>750000</td>\n",
              "      <td>BC</td>\n",
              "      <td>{'Domingo18h': 0.5}</td>\n",
              "      <td>375000.0</td>\n",
              "    </tr>\n",
              "    <tr>\n",
              "      <th>8</th>\n",
              "      <td>Levante vs Getafe</td>\n",
              "      <td>900000</td>\n",
              "      <td>BB</td>\n",
              "      <td>{'Sábado18h': 0.8}</td>\n",
              "      <td>720000.0</td>\n",
              "    </tr>\n",
              "    <tr>\n",
              "      <th>9</th>\n",
              "      <td>Granada vs Real Valladolid</td>\n",
              "      <td>900000</td>\n",
              "      <td>BB</td>\n",
              "      <td>{'Domingo16h': 0.75}</td>\n",
              "      <td>675000.0</td>\n",
              "    </tr>\n",
              "  </tbody>\n",
              "</table>\n",
              "</div>"
            ],
            "text/plain": [
              "                      Partido  ...  audiencia\n",
              "0           Cádiz vs Atlético  ...  1000000.0\n",
              "1       Sevilla vs Villarreal  ...   495000.0\n",
              "2      Eibar vs Real Sociedad  ...   300000.0\n",
              "3    Barcelona vs Real Madrid  ...  2000000.0\n",
              "4         Osasuna vs Valencia  ...   337500.0\n",
              "5      Real Betis vs Athletic  ...   630000.0\n",
              "6             Alavés vs Elche  ...   188000.0\n",
              "7             Huesca vs Celta  ...   375000.0\n",
              "8           Levante vs Getafe  ...   720000.0\n",
              "9  Granada vs Real Valladolid  ...   675000.0\n",
              "\n",
              "[10 rows x 5 columns]"
            ]
          },
          "metadata": {
            "tags": []
          },
          "execution_count": 21
        }
      ]
    },
    {
      "cell_type": "markdown",
      "metadata": {
        "id": "tgrnsC2nkFa8"
      },
      "source": [
        "## EJERCICIO 5)\r\n",
        "\r\n",
        "Calcula la complejidad del algoritmo por fuerza bruta"
      ]
    },
    {
      "cell_type": "markdown",
      "metadata": {
        "id": "9eUd3xwckP68"
      },
      "source": [
        "Respuesta"
      ]
    },
    {
      "cell_type": "markdown",
      "metadata": {
        "id": "fgX5RscQJfG3"
      },
      "source": [
        "La complejidad total de nuestro algoritmo cuando lo realizamos por fuerza bruta, será de $O(n^2)$, ya que dentro de nuestra función vamos a realizar dos iteraciones que recorrerán el total de distintos horarios que podemos encontrar tras realizar las permutaciones. Una iteración la realizamos sobre dicha lista de permutaciones de los horarios y la otra la realizaremos cuando vamos a ir calculando la audiencia que nos quedaría fila por fila (función calculo_audiencia).\r\n",
        "\r\n",
        "Aunque el resultado que obtenemos es bueno, este algoritmo no será recomendable debido a la complejidad de las posibles soluciones, que como ya hemos dicho en el *Ejercicio 1* es de un total de $10!$ posibilidades (porque no queremos que dos partidos distintos sean disputados en el mismo horario)."
      ]
    },
    {
      "cell_type": "markdown",
      "metadata": {
        "id": "txbrmLmskReM"
      },
      "source": [
        "## EJERCICIO 6)\r\n",
        "\r\n",
        "(*)Diseña un algoritmo que mejore la complejidad del algortimo por fuerza bruta. Argumenta porque crees que mejora el algoritmo por fuerza bruta"
      ]
    },
    {
      "cell_type": "markdown",
      "metadata": {
        "id": "hLrVwt5QkZPD"
      },
      "source": [
        "Respuesta"
      ]
    },
    {
      "cell_type": "markdown",
      "metadata": {
        "id": "jkVVMWOKmJnB"
      },
      "source": [
        "La solución para mejorar la complejidad del algoritmo para resolver este problema es muy sencilla. Contamos con que nunca vamos a permitir que coincidan dos partidos en el mismo horario, debido a que como ya dijimos antes esto acarrea una penalización que va a hacer que la audiencia baje.\r\n",
        "\r\n",
        "Por ello, vamos a utilizar la función **SORTED** de Python. Vamos a ordenar tanto el coeficiente de reducción de la audiencia (de mayor a menor), además de la categoría de los equipos que se enfrentan en un partido de esa jornada (de forma que tengamos al principio los enfretamientos 'AA', 'AB'... y al final los 'BC','CC')."
      ]
    },
    {
      "cell_type": "code",
      "metadata": {
        "colab": {
          "base_uri": "https://localhost:8080/",
          "height": 407
        },
        "id": "m1eyM21Vkabg",
        "outputId": "8f99eca6-e618-48cb-a0b9-7c8b8b4e6f1e"
      },
      "source": [
        "#En esta función vamos a llevar a cabo la resolución del problema de una forma más óptima\r\n",
        "#que cuando lo hacíamos por fuerza bruta:\r\n",
        "@duration\r\n",
        "def algoritmo_ordenacion(jornada):\r\n",
        "  #Ordenamos los coeficienes de reducción con la función sorted de mayor a menor:\r\n",
        "  horario_ordenado_coeficiente = sorted(reduccion_coeficiente, key = lambda item: list(item.values())[0],reverse = True)\r\n",
        "  #Ordenamos también los partidos de mayor a menor (en cuento a las categorías de los\r\n",
        "  #equipos que disputan estos):\r\n",
        "  partidos_ord_categoria = df_jornada.sort_values(['categoria_equipos'])\r\n",
        "  partidos_ord_categoria['horario'] = horario_ordenado_coeficiente\r\n",
        "  #Como anteriormente, calculamos la audiencia para cada uno de los partidos:\r\n",
        "  partidos_ord_categoria['audiencia'] = partidos_ord_categoria.apply(lambda item: calculo_audiencia(item),1)\r\n",
        "  #Calculamos la audiencia para las jornadas a partir de la audiencia que hemos \r\n",
        "  #calculado para cada uno de los partidos:\r\n",
        "  audiencia_maxima = partidos_ord_categoria['audiencia'].sum()\r\n",
        "  #Al igual que la función que resolvía el problema por fuerza bruta, nos va a devolver la\r\n",
        "  #audiencia máxima además del DataFrame con los datos de la jornada de donde se ha \r\n",
        "  #obtenido dicha audiencia:\r\n",
        "  return partidos_ord_categoria, audiencia_maxima\r\n",
        "\r\n",
        "def calculo_audiencia(item):  \r\n",
        "  return item['audiencia_partido'] * list(item['horario'].values())[0] \r\n",
        "\r\n",
        "horario_ordenacion, audiencia_ordenacion = algoritmo_ordenacion(df_jornada)\r\n",
        "print(\"La mayor audiencia después de haber llevado a cabo la ordenación es: \",audiencia_ordenacion)\r\n",
        "print(\"El mejor horario final tras las ordenación quedará: \")\r\n",
        "horario_ordenacion"
      ],
      "execution_count": null,
      "outputs": [
        {
          "output_type": "stream",
          "text": [
            "Elapsed time 3 ms\n",
            "La mayor audiencia después de haber llevado a cabo la ordenación es:  6720500.0\n",
            "El mejor horario final tras las ordenación quedará: \n"
          ],
          "name": "stdout"
        },
        {
          "output_type": "execute_result",
          "data": {
            "text/html": [
              "<div>\n",
              "<style scoped>\n",
              "    .dataframe tbody tr th:only-of-type {\n",
              "        vertical-align: middle;\n",
              "    }\n",
              "\n",
              "    .dataframe tbody tr th {\n",
              "        vertical-align: top;\n",
              "    }\n",
              "\n",
              "    .dataframe thead th {\n",
              "        text-align: right;\n",
              "    }\n",
              "</style>\n",
              "<table border=\"1\" class=\"dataframe\">\n",
              "  <thead>\n",
              "    <tr style=\"text-align: right;\">\n",
              "      <th></th>\n",
              "      <th>Partido</th>\n",
              "      <th>audiencia_partido</th>\n",
              "      <th>categoria_equipos</th>\n",
              "      <th>horario</th>\n",
              "      <th>audiencia</th>\n",
              "    </tr>\n",
              "  </thead>\n",
              "  <tbody>\n",
              "    <tr>\n",
              "      <th>3</th>\n",
              "      <td>Barcelona vs Real Madrid</td>\n",
              "      <td>2000000</td>\n",
              "      <td>AA</td>\n",
              "      <td>{'Sábado20h': 1}</td>\n",
              "      <td>2000000.0</td>\n",
              "    </tr>\n",
              "    <tr>\n",
              "      <th>0</th>\n",
              "      <td>Cádiz vs Atlético</td>\n",
              "      <td>1000000</td>\n",
              "      <td>AC</td>\n",
              "      <td>{'Domingo20h': 1}</td>\n",
              "      <td>1000000.0</td>\n",
              "    </tr>\n",
              "    <tr>\n",
              "      <th>1</th>\n",
              "      <td>Sevilla vs Villarreal</td>\n",
              "      <td>900000</td>\n",
              "      <td>BB</td>\n",
              "      <td>{'Sábado18h': 0.8}</td>\n",
              "      <td>720000.0</td>\n",
              "    </tr>\n",
              "    <tr>\n",
              "      <th>5</th>\n",
              "      <td>Real Betis vs Athletic</td>\n",
              "      <td>900000</td>\n",
              "      <td>BB</td>\n",
              "      <td>{'Domingo16h': 0.75}</td>\n",
              "      <td>675000.0</td>\n",
              "    </tr>\n",
              "    <tr>\n",
              "      <th>8</th>\n",
              "      <td>Levante vs Getafe</td>\n",
              "      <td>900000</td>\n",
              "      <td>BB</td>\n",
              "      <td>{'Sábado16h': 0.7}</td>\n",
              "      <td>630000.0</td>\n",
              "    </tr>\n",
              "    <tr>\n",
              "      <th>9</th>\n",
              "      <td>Granada vs Real Valladolid</td>\n",
              "      <td>900000</td>\n",
              "      <td>BB</td>\n",
              "      <td>{'Sábado12h': 0.55}</td>\n",
              "      <td>495000.0</td>\n",
              "    </tr>\n",
              "    <tr>\n",
              "      <th>2</th>\n",
              "      <td>Eibar vs Real Sociedad</td>\n",
              "      <td>750000</td>\n",
              "      <td>BC</td>\n",
              "      <td>{'Domingo18h': 0.5}</td>\n",
              "      <td>375000.0</td>\n",
              "    </tr>\n",
              "    <tr>\n",
              "      <th>4</th>\n",
              "      <td>Osasuna vs Valencia</td>\n",
              "      <td>750000</td>\n",
              "      <td>BC</td>\n",
              "      <td>{'Domingo12h': 0.45}</td>\n",
              "      <td>337500.0</td>\n",
              "    </tr>\n",
              "    <tr>\n",
              "      <th>7</th>\n",
              "      <td>Huesca vs Celta</td>\n",
              "      <td>750000</td>\n",
              "      <td>BC</td>\n",
              "      <td>{'Viernes20h': 0.4}</td>\n",
              "      <td>300000.0</td>\n",
              "    </tr>\n",
              "    <tr>\n",
              "      <th>6</th>\n",
              "      <td>Alavés vs Elche</td>\n",
              "      <td>470000</td>\n",
              "      <td>CC</td>\n",
              "      <td>{'Lunes20h': 0.4}</td>\n",
              "      <td>188000.0</td>\n",
              "    </tr>\n",
              "  </tbody>\n",
              "</table>\n",
              "</div>"
            ],
            "text/plain": [
              "                      Partido  ...  audiencia\n",
              "3    Barcelona vs Real Madrid  ...  2000000.0\n",
              "0           Cádiz vs Atlético  ...  1000000.0\n",
              "1       Sevilla vs Villarreal  ...   720000.0\n",
              "5      Real Betis vs Athletic  ...   675000.0\n",
              "8           Levante vs Getafe  ...   630000.0\n",
              "9  Granada vs Real Valladolid  ...   495000.0\n",
              "2      Eibar vs Real Sociedad  ...   375000.0\n",
              "4         Osasuna vs Valencia  ...   337500.0\n",
              "7             Huesca vs Celta  ...   300000.0\n",
              "6             Alavés vs Elche  ...   188000.0\n",
              "\n",
              "[10 rows x 5 columns]"
            ]
          },
          "metadata": {
            "tags": []
          },
          "execution_count": 20
        }
      ]
    },
    {
      "cell_type": "markdown",
      "metadata": {
        "id": "tuXghpg-JJSq"
      },
      "source": [
        "Vemos que para la misma jornada, tanto el algoritmo por fuerza bruta como el algoritmo ordenado, nos van a dar una similar distribución de los partidos en los distintos horarios, obteniendo en ambos casos una audiencia máxima de 6720500 espectadores. Sin embargo, como ya hemos dicho, este último es mucho más eficiente, ya que el primero por fuerza bruta tiene que ir probando cada una de las 10! posibles soluciones, y el tiempo de ejecución como vemos en las soluciones es muy alto (del orden de tardar varias horas en obtener la respuesta).\r\n",
        "Por otro lado, con la ordenación conseguimos la solución en el momento, por lo que como decíamos, este segundo será mucho más eficiente."
      ]
    },
    {
      "cell_type": "markdown",
      "metadata": {
        "id": "eGDB4K6uk1iN"
      },
      "source": [
        "## EJERCICIO 7)\r\n",
        "\r\n",
        "(*)Calcula la complejidad del algoritmo "
      ]
    },
    {
      "cell_type": "markdown",
      "metadata": {
        "id": "NhpTh_BPk1ms"
      },
      "source": [
        "Respuesta"
      ]
    },
    {
      "cell_type": "markdown",
      "metadata": {
        "id": "fTCMSEx9KCie"
      },
      "source": [
        "La complejidad para resolver este problema por ordenamiento va a ser de **$O(n * log(n))$**, tanto para el peor como para el mejor caso (función *sorted* siempre tiene dicha complejidad).\r\n",
        "\r\n",
        "La función para llevar a cabo el cálculo de la audiencia en cada caso, va a ser de **$O(n)$**, por lo que no va a empeorar a lo anterior."
      ]
    },
    {
      "cell_type": "markdown",
      "metadata": {
        "id": "3M6QjTsSkmYe"
      },
      "source": [
        "##EJERCICIO 8)\r\n",
        "Según el problema (y tenga sentido), diseña un juego de datos de entrada aleatorios\r\n",
        "\r\n",
        "Aplica el algoritmo al juego de datos generado"
      ]
    },
    {
      "cell_type": "markdown",
      "metadata": {
        "id": "Jc3_OlyNkvjZ"
      },
      "source": [
        "Respuesta"
      ]
    },
    {
      "cell_type": "markdown",
      "metadata": {
        "id": "SrsvTIwHfJbe"
      },
      "source": [
        "Vamos a utilizar la función *jornada_aleatoria()* del *Ejercicio 1* y que cada vez que era ejecutada nos permitía obtener un *DataFrame* con un una composición de partidos diferente. Los equipos eran elegidos aleatoriamente entre cada una de las categorías (función *random.choice* de Python)."
      ]
    },
    {
      "cell_type": "code",
      "metadata": {
        "id": "sJ-N2etjkyWc"
      },
      "source": [
        "def jornada_aleatoria():\r\n",
        "  categoria_a = len(categoria_equipos['A'])\r\n",
        "  categoria_b = len(categoria_equipos['B'])\r\n",
        "  categoria_c = len(categoria_equipos['C'])\r\n",
        "  contador = {'A':categoria_a,'B':categoria_b,'C':categoria_c}\r\n",
        "  partidos = pd.DataFrame(columns=['Partido','audiencia_partido','categoria_equipos'])\r\n",
        "  for i in range(10):\r\n",
        "    equipo_local = equipo_aleatorio(contador)\r\n",
        "    equipo_visitante = equipo_aleatorio(contador)        \r\n",
        "    categorias_equipos = [equipo_local[0],equipo_visitante[0]]\r\n",
        "    categorias_equipos.sort()\r\n",
        "    categoria_partido = \"\".join(categorias_equipos)\r\n",
        "    partidos = partidos.append({\"Partido\":\"{} vs {}\".format(equipo_local[1],equipo_visitante[1]),\r\n",
        "                                \"audiencia_partido\":audiencia_categoria[categoria_partido],\r\n",
        "                                'categoria_equipos':categoria_partido},ignore_index=True)  \r\n",
        "  return partidos\r\n",
        "\r\n",
        "def equipo_aleatorio(contador):\r\n",
        "  while True:\r\n",
        "    equipo = random.choice(['A','B','C'])\r\n",
        "    if (contador[equipo]>0):\r\n",
        "      nombre_equipo = categoria_equipos[equipo][contador[equipo]-1]\r\n",
        "      contador[equipo] = contador[equipo] - 1\r\n",
        "      return equipo,nombre_equipo"
      ],
      "execution_count": null,
      "outputs": []
    },
    {
      "cell_type": "code",
      "metadata": {
        "id": "Jkx8GeiYlUz1",
        "colab": {
          "base_uri": "https://localhost:8080/",
          "height": 355
        },
        "outputId": "62b72be6-8492-4ce5-951e-444445f0450f"
      },
      "source": [
        "jornada_ejer8 = jornada_aleatoria()\r\n",
        "display(jornada_ejer8)"
      ],
      "execution_count": null,
      "outputs": [
        {
          "output_type": "display_data",
          "data": {
            "text/html": [
              "<div>\n",
              "<style scoped>\n",
              "    .dataframe tbody tr th:only-of-type {\n",
              "        vertical-align: middle;\n",
              "    }\n",
              "\n",
              "    .dataframe tbody tr th {\n",
              "        vertical-align: top;\n",
              "    }\n",
              "\n",
              "    .dataframe thead th {\n",
              "        text-align: right;\n",
              "    }\n",
              "</style>\n",
              "<table border=\"1\" class=\"dataframe\">\n",
              "  <thead>\n",
              "    <tr style=\"text-align: right;\">\n",
              "      <th></th>\n",
              "      <th>Partido</th>\n",
              "      <th>audiencia_partido</th>\n",
              "      <th>categoria_equipos</th>\n",
              "    </tr>\n",
              "  </thead>\n",
              "  <tbody>\n",
              "    <tr>\n",
              "      <th>0</th>\n",
              "      <td>Atlético vs Cádiz</td>\n",
              "      <td>1000000</td>\n",
              "      <td>AC</td>\n",
              "    </tr>\n",
              "    <tr>\n",
              "      <th>1</th>\n",
              "      <td>Barcelona vs Sevilla</td>\n",
              "      <td>1300000</td>\n",
              "      <td>AB</td>\n",
              "    </tr>\n",
              "    <tr>\n",
              "      <th>2</th>\n",
              "      <td>Eibar vs Osasuna</td>\n",
              "      <td>470000</td>\n",
              "      <td>CC</td>\n",
              "    </tr>\n",
              "    <tr>\n",
              "      <th>3</th>\n",
              "      <td>Alavés vs Villarreal</td>\n",
              "      <td>750000</td>\n",
              "      <td>BC</td>\n",
              "    </tr>\n",
              "    <tr>\n",
              "      <th>4</th>\n",
              "      <td>Elche vs Huesca</td>\n",
              "      <td>470000</td>\n",
              "      <td>CC</td>\n",
              "    </tr>\n",
              "    <tr>\n",
              "      <th>5</th>\n",
              "      <td>Real Madrid vs Real Sociedad</td>\n",
              "      <td>1300000</td>\n",
              "      <td>AB</td>\n",
              "    </tr>\n",
              "    <tr>\n",
              "      <th>6</th>\n",
              "      <td>Valencia vs Real Betis</td>\n",
              "      <td>900000</td>\n",
              "      <td>BB</td>\n",
              "    </tr>\n",
              "    <tr>\n",
              "      <th>7</th>\n",
              "      <td>Athletic vs Celta</td>\n",
              "      <td>900000</td>\n",
              "      <td>BB</td>\n",
              "    </tr>\n",
              "    <tr>\n",
              "      <th>8</th>\n",
              "      <td>Levante vs Getafe</td>\n",
              "      <td>900000</td>\n",
              "      <td>BB</td>\n",
              "    </tr>\n",
              "    <tr>\n",
              "      <th>9</th>\n",
              "      <td>Granada vs Real Valladolid</td>\n",
              "      <td>900000</td>\n",
              "      <td>BB</td>\n",
              "    </tr>\n",
              "  </tbody>\n",
              "</table>\n",
              "</div>"
            ],
            "text/plain": [
              "                        Partido audiencia_partido categoria_equipos\n",
              "0             Atlético vs Cádiz           1000000                AC\n",
              "1          Barcelona vs Sevilla           1300000                AB\n",
              "2              Eibar vs Osasuna            470000                CC\n",
              "3          Alavés vs Villarreal            750000                BC\n",
              "4               Elche vs Huesca            470000                CC\n",
              "5  Real Madrid vs Real Sociedad           1300000                AB\n",
              "6        Valencia vs Real Betis            900000                BB\n",
              "7             Athletic vs Celta            900000                BB\n",
              "8             Levante vs Getafe            900000                BB\n",
              "9    Granada vs Real Valladolid            900000                BB"
            ]
          },
          "metadata": {
            "tags": []
          }
        }
      ]
    },
    {
      "cell_type": "markdown",
      "metadata": {
        "id": "C7E8XZICdPJ_"
      },
      "source": [
        "A partir de esta nueva jornada con enfrentamientos aleatorios que hemos creado podríamos aplicar tanto el algoritmo voraz como el algoritmo por ordenación para saber cual sería la mejor asignación de estos partidos a los distintos horarios."
      ]
    },
    {
      "cell_type": "markdown",
      "metadata": {
        "id": "eTFWUJQrtGcv"
      },
      "source": [
        "## EJERCICIO 9)\r\n",
        "\r\n",
        "Enumera las referencias que has utilizado(si ha sido necesario) para llevar a cabo el trabajo"
      ]
    },
    {
      "cell_type": "markdown",
      "metadata": {
        "id": "YKQ_mRBttWsP"
      },
      "source": [
        "Respuesta"
      ]
    },
    {
      "cell_type": "markdown",
      "metadata": {
        "id": "axEYiayMgTQC"
      },
      "source": [
        "[https://riptutorial.com/pandas/example/23648/pandas-dataframe-apply-basic-usage](https://riptutorial.com/pandas/example/23648/pandas-dataframe-apply-basic-usage)\r\n",
        "\r\n",
        "[https://www.programiz.com/python-programming/methods/built-in/sorted](https://www.programiz.com/python-programming/methods/built-in/sorted)\r\n",
        "\r\n",
        "[https://docs.python.org/3/howto/sorting.html](https://docs.python.org/3/howto/sorting.html)"
      ]
    },
    {
      "cell_type": "markdown",
      "metadata": {
        "id": "kAkDPUyRtYyH"
      },
      "source": [
        "## EJERCICIO 10)\r\n",
        "\r\n",
        "Describe brevemente las lineas de como crees que es posible avanzar en el estudio del problema. Ten en cuenta incluso posibles variaciones del problema y/o variaciones al alza del tamaño"
      ]
    },
    {
      "cell_type": "markdown",
      "metadata": {
        "id": "IE0uZmo-tZu-"
      },
      "source": [
        "Respuesta"
      ]
    },
    {
      "cell_type": "markdown",
      "metadata": {
        "id": "xVHs4rR4gUkQ"
      },
      "source": [
        "Una implementación que se podría llevar a cabo sería utilizar este algoritmo para organizar, teniendo los enfrentamientos entre los equipos en cada una de las jornadas, los horarios para dichos enfrentamientos de una temporada completa de la Liga de Fútbol Española.\r\n",
        "\r\n",
        "También podríamos avanzar en este problema si llevamos a cabo su resolución utilizando Ramificación y Poda, donde nos quedaríamos con los nodos que nos permitan obtener la audiencia máxima y descartaríamos el resto."
      ]
    }
  ]
}