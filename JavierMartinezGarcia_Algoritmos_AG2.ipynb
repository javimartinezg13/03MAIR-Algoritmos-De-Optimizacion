{
  "nbformat": 4,
  "nbformat_minor": 0,
  "metadata": {
    "colab": {
      "name": "JavierMartinezGarcia - Algoritmos - AG2.ipynb",
      "provenance": [],
      "collapsed_sections": [],
      "authorship_tag": "ABX9TyP5nSGmsvryi6HLZtiGulFP",
      "include_colab_link": true
    },
    "kernelspec": {
      "name": "python3",
      "display_name": "Python 3"
    }
  },
  "cells": [
    {
      "cell_type": "markdown",
      "metadata": {
        "id": "view-in-github",
        "colab_type": "text"
      },
      "source": [
        "<a href=\"https://colab.research.google.com/github/javimartinezg13/03MAIR-Algoritmos-De-Optimizacion/blob/main/JavierMartinezGarcia_Algoritmos_AG2.ipynb\" target=\"_parent\"><img src=\"https://colab.research.google.com/assets/colab-badge.svg\" alt=\"Open In Colab\"/></a>"
      ]
    },
    {
      "cell_type": "markdown",
      "metadata": {
        "id": "aZDzEJpSc0PJ"
      },
      "source": [
        "#Algoritmos de optimización - Actividad guiada 2\r\n",
        "\r\n",
        "Nombre: Javier Martínez García\r\n",
        "\r\n",
        "URL: [https://colab.research.google.com/drive/1KmhrGEmc1Fcfe2NiwAiUFH0gdeWxvaLb?usp=sharing](https://colab.research.google.com/drive/1KmhrGEmc1Fcfe2NiwAiUFH0gdeWxvaLb?usp=sharing)\r\n",
        "\r\n",
        "GitHub: [https://github.com/javimartinezg13/03MAIR-Algoritmos-De-Optimizacion](https://github.com/javimartinezg13/03MAIR-Algoritmos-De-Optimizacion)"
      ]
    },
    {
      "cell_type": "code",
      "metadata": {
        "id": "QJafEHZp6wGs"
      },
      "source": [
        "from functools import wraps\r\n",
        "from time import time\r\n",
        "def duration(f):\r\n",
        "    @wraps(f)  \r\n",
        "    def timing(*args, **kwargs):\r\n",
        "        init = time()\r\n",
        "        fun_result = f(*args, **kwargs)\r\n",
        "        end = time()\r\n",
        "        print('Elapsed time %d ms' %((end - init)*1000))\r\n",
        "        return fun_result\r\n",
        "    return timing"
      ],
      "execution_count": null,
      "outputs": []
    },
    {
      "cell_type": "markdown",
      "metadata": {
        "id": "aF5NMBPc-poN"
      },
      "source": [
        "Sí que está realizada la **ampliación de nota** de esta actividad."
      ]
    },
    {
      "cell_type": "markdown",
      "metadata": {
        "id": "1HKRLXvMc34c"
      },
      "source": [
        "## Viaje por el río:"
      ]
    },
    {
      "cell_type": "code",
      "metadata": {
        "id": "fpcmL16jc8Di"
      },
      "source": [
        "import math\r\n",
        "\r\n",
        "TARIFAS = [\r\n",
        "[0,5,4,3,999,999,999],   #desde nodo 0\r\n",
        "[999,0,999,2,3,999,11],  #desde nodo 1\r\n",
        "[999,999, 0,1,999,4,10], #desde nodo 2\r\n",
        "[999,999,999, 0,5,6,9],\r\n",
        "[999,999, 999,999,0,999,4],\r\n",
        "[999,999, 999,999,999,0,3],\r\n",
        "[999,999,999,999,999,999,0]\r\n",
        "]"
      ],
      "execution_count": null,
      "outputs": []
    },
    {
      "cell_type": "code",
      "metadata": {
        "id": "RnkRObj9ijry"
      },
      "source": [
        "def Precios(TARIFAS):\r\n",
        "################################################################  \r\n",
        "  #Total de Nodos\r\n",
        "  N = len(TARIFAS[0])\r\n",
        "  \r\n",
        "  #Inicialización de la tabla de precios\r\n",
        "  PRECIOS = [ [9999]*N for i in [9999]*N]  #n x n \r\n",
        "  RUTA = [ [\"\"]*N for i in [\"\"]*N]\r\n",
        "  \r\n",
        "  for i in range(N-1):\r\n",
        "    for j in range(i+1, N):\r\n",
        "      MIN = TARIFAS[i][j]\r\n",
        "      RUTA[i][j] = i\r\n",
        "      \r\n",
        "      for k in range(i, j):\r\n",
        "        if PRECIOS[i][k] + TARIFAS[k][j] < MIN:\r\n",
        "            MIN = min(MIN, PRECIOS[i][k] + TARIFAS[k][j] )\r\n",
        "            RUTA[i][j] = k\r\n",
        "        PRECIOS[i][j] = MIN\r\n",
        "        \r\n",
        "  return PRECIOS,RUTA"
      ],
      "execution_count": null,
      "outputs": []
    },
    {
      "cell_type": "code",
      "metadata": {
        "colab": {
          "base_uri": "https://localhost:8080/"
        },
        "id": "iNoCGjjoxvAl",
        "outputId": "2c9ecc69-923f-4bc1-ea3b-5a67713d1f47"
      },
      "source": [
        "PRECIOS,RUTA = Precios(TARIFAS)  \r\n",
        "#print(PRECIOS[0][6])\r\n",
        "\r\n",
        "print(\"PRECIOS\")\r\n",
        "for i in range(len(TARIFAS)):\r\n",
        "  print(PRECIOS[i])\r\n",
        "\r\n",
        "print(\"\\nRUTA\")  \r\n",
        "for i in range(len(TARIFAS)):\r\n",
        "  print(RUTA[i]) "
      ],
      "execution_count": null,
      "outputs": [
        {
          "output_type": "stream",
          "text": [
            "PRECIOS\n",
            "[9999, 5, 4, 3, 8, 8, 11]\n",
            "[9999, 9999, 999, 2, 3, 8, 7]\n",
            "[9999, 9999, 9999, 1, 6, 4, 7]\n",
            "[9999, 9999, 9999, 9999, 5, 6, 9]\n",
            "[9999, 9999, 9999, 9999, 9999, 999, 4]\n",
            "[9999, 9999, 9999, 9999, 9999, 9999, 3]\n",
            "[9999, 9999, 9999, 9999, 9999, 9999, 9999]\n",
            "\n",
            "RUTA\n",
            "['', 0, 0, 0, 1, 2, 5]\n",
            "['', '', 1, 1, 1, 3, 4]\n",
            "['', '', '', 2, 3, 2, 5]\n",
            "['', '', '', '', 3, 3, 3]\n",
            "['', '', '', '', '', 4, 4]\n",
            "['', '', '', '', '', '', 5]\n",
            "['', '', '', '', '', '', '']\n"
          ],
          "name": "stdout"
        }
      ]
    },
    {
      "cell_type": "code",
      "metadata": {
        "colab": {
          "base_uri": "https://localhost:8080/",
          "height": 70
        },
        "id": "95wReqURx1uQ",
        "outputId": "e5385fcf-4c33-4a88-ff78-94d225c57949"
      },
      "source": [
        "def calcular_ruta(RUTA, desde, hasta):\r\n",
        "  if desde == hasta:\r\n",
        "    #print(\"Ir a :\" + str(desde))\r\n",
        "    return desde \r\n",
        "  else:\r\n",
        "    return str(calcular_ruta(RUTA, desde, RUTA[desde][hasta])) +  ',' + str(RUTA[desde][hasta]) \r\n",
        "\r\n",
        "print(\"\\nLa ruta es:\")  \r\n",
        "calcular_ruta(RUTA, 0,6) "
      ],
      "execution_count": null,
      "outputs": [
        {
          "output_type": "stream",
          "text": [
            "\n",
            "La ruta es:\n"
          ],
          "name": "stdout"
        },
        {
          "output_type": "execute_result",
          "data": {
            "application/vnd.google.colaboratory.intrinsic+json": {
              "type": "string"
            },
            "text/plain": [
              "'0,0,2,5'"
            ]
          },
          "metadata": {
            "tags": []
          },
          "execution_count": 5
        }
      ]
    },
    {
      "cell_type": "markdown",
      "metadata": {
        "id": "gfYqKc1c4T9j"
      },
      "source": [
        "## Problema de asignación de tarea:"
      ]
    },
    {
      "cell_type": "code",
      "metadata": {
        "id": "CLFvaaid4YQo"
      },
      "source": [
        "COSTES=[[11,12,18,40],\r\n",
        "        [14,15,13,22],\r\n",
        "        [11,17,19,23],\r\n",
        "        [17,14,20,28]]"
      ],
      "execution_count": null,
      "outputs": []
    },
    {
      "cell_type": "code",
      "metadata": {
        "id": "J3X6EMxj9Cku",
        "colab": {
          "base_uri": "https://localhost:8080/"
        },
        "outputId": "9a5d4c7b-0099-4e81-9c64-b9255cd88776"
      },
      "source": [
        "def valor(S,COSTES):\r\n",
        "  VALOR = 0\r\n",
        "  for i in range(len(S)):\r\n",
        "    VALOR += COSTES[S[i]][i] \r\n",
        "  return VALOR\r\n",
        "  \r\n",
        "valor((0, 1, 2, 3  ),COSTES)"
      ],
      "execution_count": null,
      "outputs": [
        {
          "output_type": "execute_result",
          "data": {
            "text/plain": [
              "73"
            ]
          },
          "metadata": {
            "tags": []
          },
          "execution_count": 7
        }
      ]
    },
    {
      "cell_type": "code",
      "metadata": {
        "id": "bC2BNdeN9Eq7",
        "colab": {
          "base_uri": "https://localhost:8080/"
        },
        "outputId": "12a79baf-3661-450c-c809-eddfe3ca44f0"
      },
      "source": [
        "def CI(S,COSTES):\r\n",
        "  VALOR = 0\r\n",
        "  #Valores establecidos\r\n",
        "  for i in range(len(S)):\r\n",
        "    VALOR += COSTES[i][S[i]]\r\n",
        "\r\n",
        "  #Estimacion\r\n",
        "  for i in range( len(S), len(COSTES)   ):\r\n",
        "    VALOR += min( [ COSTES[j][i] for j in range(len(S), len(COSTES))  ])\r\n",
        "  return VALOR\r\n",
        "\r\n",
        "def CS(S,COSTES):\r\n",
        "  VALOR = 0\r\n",
        "  #Valores establecidos\r\n",
        "  for i in range(len(S)):\r\n",
        "    VALOR += COSTES[i][S[i]]\r\n",
        "\r\n",
        "  #Estimacion\r\n",
        "  for i in range( len(S), len(COSTES)   ):\r\n",
        "    VALOR += max( [ COSTES[j][i] for j in range(len(S), len(COSTES))  ])\r\n",
        "  return VALOR\r\n",
        "\r\n",
        "CS((0,1),COSTES)"
      ],
      "execution_count": null,
      "outputs": [
        {
          "output_type": "execute_result",
          "data": {
            "text/plain": [
              "74"
            ]
          },
          "metadata": {
            "tags": []
          },
          "execution_count": 8
        }
      ]
    },
    {
      "cell_type": "code",
      "metadata": {
        "id": "DCyYtk6s9HTz"
      },
      "source": [
        "#Genera tantos hijos como como posibilidades haya para la siguiente elemento de la tupla\r\n",
        "#(0,) -> (0,1), (0,2), (0,3)\r\n",
        "def crear_hijos(NODO, N):\r\n",
        "  HIJOS = []\r\n",
        "  for i in range(N ):\r\n",
        "    if i not in NODO:\r\n",
        "      HIJOS.append({'s':NODO +(i,)    })\r\n",
        "  return HIJOS"
      ],
      "execution_count": null,
      "outputs": []
    },
    {
      "cell_type": "code",
      "metadata": {
        "id": "4jTh-GYU9KEs",
        "colab": {
          "base_uri": "https://localhost:8080/"
        },
        "outputId": "24744722-fe47-47ea-df4c-c772dee092d8"
      },
      "source": [
        "@duration\r\n",
        "def ramificacion_y_poda(COSTES):\r\n",
        "#Construccion iterativa de soluciones(arbol). En cada etapa asignamos un agente(ramas).\r\n",
        "#Nodos del grafo  { s:(1,2),CI:3,CS:5  }\r\n",
        "  #print(COSTES)\r\n",
        "  DIMENSION = len(COSTES)  \r\n",
        "  MEJOR_SOLUCION=tuple( i for i in range(len(COSTES)) )\r\n",
        "  CotaSup = valor(MEJOR_SOLUCION,COSTES)\r\n",
        "  #print(\"Cota Superior:\", CotaSup)\r\n",
        "\r\n",
        "  NODOS=[]\r\n",
        "  NODOS.append({'s':(), 'ci':CI((),COSTES)    } )\r\n",
        "\r\n",
        "  iteracion = 0\r\n",
        "\r\n",
        "  while( len(NODOS) > 0):\r\n",
        "    iteracion +=1\r\n",
        "\r\n",
        "    nodo_prometedor = [ min(NODOS, key=lambda x:x['ci']) ][0]['s']\r\n",
        "    #print(\"Nodo prometedor:\", nodo_prometedor)\r\n",
        "\r\n",
        "    #Ramificacion\r\n",
        "    #Se generan los hijos\r\n",
        "    HIJOS =[ {'s':x['s'], 'ci':CI(x['s'], COSTES)   } for x in crear_hijos(nodo_prometedor, DIMENSION) ]\r\n",
        "\r\n",
        "    #Revisamos la cota superior y nos quedamos con la mejor solucion si llegamos a una solucion final\r\n",
        "    NODO_FINAL = [x for x in HIJOS if len(x['s']) == DIMENSION  ]\r\n",
        "    if len(NODO_FINAL ) >0: \r\n",
        "      #print(\"\\n********Soluciones:\",  [x for x in HIJOS if len(x['s']) == DIMENSION  ] )\r\n",
        "      if NODO_FINAL[0]['ci'] < CotaSup:\r\n",
        "        CotaSup = NODO_FINAL[0]['ci']\r\n",
        "        MEJOR_SOLUCION = NODO_FINAL\r\n",
        " \r\n",
        "    #Poda\r\n",
        "    HIJOS = [x for x in HIJOS if x['ci'] < CotaSup   ]\r\n",
        "\r\n",
        "    #Añadimos los hijos \r\n",
        "    NODOS.extend(HIJOS) \r\n",
        "\r\n",
        "    #Eliminamos el nodo ramificado\r\n",
        "    NODOS =  [  x for x in NODOS if x['s'] != nodo_prometedor    ]\r\n",
        "   \r\n",
        "  print(\"La solucion final es:\" ,MEJOR_SOLUCION , \" en \" , iteracion , \" iteraciones\" , \" para dimension: \" ,DIMENSION  )\r\n",
        "      \r\n",
        "\r\n",
        "\r\n",
        "ramificacion_y_poda(COSTES)"
      ],
      "execution_count": null,
      "outputs": [
        {
          "output_type": "stream",
          "text": [
            "La solucion final es: [{'s': (1, 2, 0, 3), 'ci': 64}]  en  10  iteraciones  para dimension:  4\n",
            "Elapsed time 2 ms\n"
          ],
          "name": "stdout"
        }
      ]
    },
    {
      "cell_type": "code",
      "metadata": {
        "colab": {
          "base_uri": "https://localhost:8080/"
        },
        "id": "9ayC3zCR6pCi",
        "outputId": "81f3eacd-4480-4c47-dd53-8d9cb44a2713"
      },
      "source": [
        "import itertools\r\n",
        "\r\n",
        "@duration\r\n",
        "def fuerza_bruta(COSTES):\r\n",
        "    mejor_valor=10e10\r\n",
        "    mejor_solucion= ''\r\n",
        "    \r\n",
        "    for S in list(itertools.permutations(range(len(COSTES)))):\r\n",
        "      valor_tmp = valor(S, COSTES)\r\n",
        "      if valor_tmp < mejor_valor:\r\n",
        "        mejor_solucion=S\r\n",
        "        mejor_valor=valor_tmp\r\n",
        "        \r\n",
        "    print(\"La mejor solucion es :\" ,mejor_solucion)\r\n",
        "    \r\n",
        "    \r\n",
        "fuerza_bruta(COSTES)"
      ],
      "execution_count": null,
      "outputs": [
        {
          "output_type": "stream",
          "text": [
            "La mejor solucion es : (0, 3, 1, 2)\n",
            "Elapsed time 1 ms\n"
          ],
          "name": "stdout"
        }
      ]
    },
    {
      "cell_type": "markdown",
      "metadata": {
        "id": "wm3bylMD5lDt"
      },
      "source": [
        "Utilizando fuerza bruta para la resolución de este problema la complejidad que encontraremos será de **O(n!)**.\r\n",
        "Esto quiere decir que cuando vayamos aumentando las dimensiones el algoritmo irá empeorando sus resultados hasta el punto de dejar de funcionar, debido, a como hemos dicho, su complejidad computacional.\r\n",
        "Vemos que para un ejemplo con una dimensión pequeña (4x4) el algoritmo lo hace en un tiempo de ejecución mínimo. Ahora vamos a probar como funciona con fuerza bruta si vamos aumentando dichas dimensiones, y para ello vamos a generar matrices:"
      ]
    },
    {
      "cell_type": "code",
      "metadata": {
        "colab": {
          "base_uri": "https://localhost:8080/"
        },
        "id": "YrvJEVOs6dDC",
        "outputId": "d5bd88d4-b2ef-4292-83d8-5b207d748b5d"
      },
      "source": [
        "from random import randint\r\n",
        "def matrix_generator(dimension):\r\n",
        "  matrix = []\r\n",
        "  for _ in range(dimension):\r\n",
        "    row = []\r\n",
        "    for _ in range(dimension):\r\n",
        "      row.append(randint(10, 50))\r\n",
        "    matrix.append(row)\r\n",
        "  return matrix\r\n",
        "\r\n",
        "\r\n",
        "matriz_5d =matrix_generator(5)\r\n",
        "matriz_6d=matrix_generator(6)\r\n",
        "matriz_7d=matrix_generator(7)\r\n",
        "matriz_8d=matrix_generator(8)\r\n",
        "matriz_9d=matrix_generator(9)\r\n",
        "\r\n",
        "\r\n",
        "print(\"En el caso de 5 dimensiones:\")\r\n",
        "fuerza_bruta(matriz_5d)\r\n",
        "print(\"En el caso de 6 dimensiones:\")\r\n",
        "fuerza_bruta(matriz_6d)\r\n",
        "print(\"En el caso de 7 dimensiones:\")\r\n",
        "fuerza_bruta(matriz_7d)\r\n",
        "print(\"En el caso de 8 dimensiones:\")\r\n",
        "fuerza_bruta(matriz_8d)\r\n",
        "print(\"En el caso de 9 dimensiones:\")\r\n",
        "fuerza_bruta(matriz_9d)"
      ],
      "execution_count": null,
      "outputs": [
        {
          "output_type": "stream",
          "text": [
            "En el caso de 5 dimensiones:\n",
            "La mejor solucion es : (0, 1, 3, 4, 2)\n",
            "Elapsed time 0 ms\n",
            "En el caso de 6 dimensiones:\n",
            "La mejor solucion es : (2, 4, 5, 0, 3, 1)\n",
            "Elapsed time 0 ms\n",
            "En el caso de 7 dimensiones:\n",
            "La mejor solucion es : (0, 1, 4, 3, 6, 5, 2)\n",
            "Elapsed time 6 ms\n",
            "En el caso de 8 dimensiones:\n",
            "La mejor solucion es : (4, 3, 2, 7, 1, 6, 0, 5)\n",
            "Elapsed time 102 ms\n",
            "En el caso de 9 dimensiones:\n",
            "La mejor solucion es : (8, 1, 2, 6, 7, 3, 4, 5, 0)\n",
            "Elapsed time 461 ms\n"
          ],
          "name": "stdout"
        }
      ]
    },
    {
      "cell_type": "markdown",
      "metadata": {
        "id": "G1NbGhiC8WT6"
      },
      "source": [
        "Vemos que una vez llegamos a la dimensión 9x9 el tiempo de ejecución aumenta considerablemente y empieza a tener poca utilidad debido a su complejidad."
      ]
    },
    {
      "cell_type": "markdown",
      "metadata": {
        "id": "aFpp1qdb8lum"
      },
      "source": [
        "Ahora vamos a ver también en el **algoritmo de ramificación y poda** si hay algún valor a partir del cual empieza a no ser una opción válida:"
      ]
    },
    {
      "cell_type": "code",
      "metadata": {
        "colab": {
          "base_uri": "https://localhost:8080/"
        },
        "id": "rc3ygtma8zc3",
        "outputId": "ae1253fb-3500-4caf-b866-2a02ae282884"
      },
      "source": [
        "matriz_10d=matrix_generator(10)\r\n",
        "matriz_11d=matrix_generator(11)\r\n",
        "\r\n",
        "print(\"En el caso de 5 dimensiones:\")\r\n",
        "ramificacion_y_poda(matriz_5d)\r\n",
        "print(\"En el caso de 6 dimensiones:\")\r\n",
        "ramificacion_y_poda(matriz_6d)\r\n",
        "print(\"En el caso de 7 dimensiones:\")\r\n",
        "ramificacion_y_poda(matriz_7d)\r\n",
        "print(\"En el caso de 8 dimensiones:\")\r\n",
        "ramificacion_y_poda(matriz_8d)\r\n",
        "print(\"En el caso de 9 dimensiones:\")\r\n",
        "ramificacion_y_poda(matriz_9d)\r\n",
        "print(\"En el caso de 10 dimensiones:\")\r\n",
        "ramificacion_y_poda(matriz_10d)\r\n",
        "print(\"En el caso de 11 dimensiones:\")\r\n",
        "ramificacion_y_poda(matriz_11d)"
      ],
      "execution_count": null,
      "outputs": [
        {
          "output_type": "stream",
          "text": [
            "En el caso de 5 dimensiones:\n",
            "La solucion final es: [{'s': (4, 1, 0, 2, 3), 'ci': 68}]  en  88  iteraciones  para dimension:  5\n",
            "Elapsed time 3 ms\n",
            "En el caso de 6 dimensiones:\n",
            "La solucion final es: [{'s': (3, 5, 0, 4, 1, 2), 'ci': 99}]  en  67  iteraciones  para dimension:  6\n",
            "Elapsed time 3 ms\n",
            "En el caso de 7 dimensiones:\n",
            "La solucion final es: [{'s': (0, 1, 6, 3, 2, 5, 4), 'ci': 135}]  en  535  iteraciones  para dimension:  7\n",
            "Elapsed time 42 ms\n",
            "En el caso de 8 dimensiones:\n",
            "La solucion final es: [{'s': (6, 4, 2, 1, 0, 7, 5, 3), 'ci': 142}]  en  798  iteraciones  para dimension:  8\n",
            "Elapsed time 62 ms\n",
            "En el caso de 9 dimensiones:\n",
            "La solucion final es: [{'s': (8, 1, 2, 5, 6, 7, 3, 4, 0), 'ci': 111}]  en  528  iteraciones  para dimension:  9\n",
            "Elapsed time 39 ms\n",
            "En el caso de 10 dimensiones:\n",
            "La solucion final es: [{'s': (4, 1, 0, 6, 9, 7, 5, 2, 3, 8), 'ci': 169}]  en  4218  iteraciones  para dimension:  10\n",
            "Elapsed time 1767 ms\n",
            "En el caso de 11 dimensiones:\n",
            "La solucion final es: [{'s': (8, 6, 1, 7, 4, 5, 9, 10, 2, 3, 0), 'ci': 132}]  en  669  iteraciones  para dimension:  11\n",
            "Elapsed time 74 ms\n"
          ],
          "name": "stdout"
        }
      ]
    },
    {
      "cell_type": "markdown",
      "metadata": {
        "id": "9SsZlGfK-XgR"
      },
      "source": [
        "Vemos que ya cuando sobrepasamos las 10 dimensiones el tiempo de ejecución del algoritmo realizado por ramificación y poda empieza a ser considerablemente elevado."
      ]
    },
    {
      "cell_type": "markdown",
      "metadata": {
        "id": "y3vVwcYWvJ21"
      },
      "source": [
        "## Descenso de gradiente:"
      ]
    },
    {
      "cell_type": "markdown",
      "metadata": {
        "id": "3F8z6hHB1doJ"
      },
      "source": [
        "Primero vamos a realizarlo con la función **paraboloide**:"
      ]
    },
    {
      "cell_type": "code",
      "metadata": {
        "id": "Aqncavs49Qv5"
      },
      "source": [
        "import math                      #Funciones matematicas\r\n",
        "import matplotlib.pyplot as plt  #Generacion de gráficos (otra opcion seaborn)\r\n",
        "import numpy as np               #Tratamiento matriz N-dimensionales y otras (fundamental!) \r\n",
        "#import scipy as sc\r\n",
        "\r\n",
        "import random"
      ],
      "execution_count": null,
      "outputs": []
    },
    {
      "cell_type": "code",
      "metadata": {
        "id": "e0xsrwSuwjJ-"
      },
      "source": [
        "#Definimos la funcion\r\n",
        "#Paraboloide\r\n",
        "f  = lambda X:      X[0]**2+X[1]**2      #Funcion\r\n",
        "df = lambda X: [2*X[0] , 2*X[1]]         #Gradiente"
      ],
      "execution_count": null,
      "outputs": []
    },
    {
      "cell_type": "code",
      "metadata": {
        "colab": {
          "base_uri": "https://localhost:8080/",
          "height": 283
        },
        "id": "q3uIAYcHwlpF",
        "outputId": "33f0b45b-50d9-4038-b1e0-3d85664cef78"
      },
      "source": [
        "#Prepara los datos para dibujar mapa de niveles de Z\r\n",
        "resolucion = 100 \r\n",
        "rango=2.5\r\n",
        "X=np.linspace(-rango,rango,resolucion) \r\n",
        "Y=np.linspace(-rango,rango,resolucion)\r\n",
        "Z=np.zeros((resolucion,resolucion))\r\n",
        "for ix,x in enumerate(X):\r\n",
        "  for iy,y in enumerate(Y):\r\n",
        "    Z[iy,ix] = f([x,y])\r\n",
        "\r\n",
        "#Pinta el mapa de niveles de Z\r\n",
        "plt.contourf(X,Y,Z,resolucion)\r\n",
        "plt.colorbar() \r\n",
        "\r\n",
        "#Generamos un punto aleatorio\r\n",
        "P=[random.uniform(-2,2  ),random.uniform(-2,2 ) ]\r\n",
        "plt.plot(P[0],P[1],\"o\",c=\"white\")\r\n",
        "\r\n",
        "#Tasa de aprendizaje\r\n",
        "TA=.1 \r\n",
        "\r\n",
        "#Iteraciones\r\n",
        "for _ in range(500):\r\n",
        "  grad = df(P)\r\n",
        "  #print(P,grad)\r\n",
        "  P[0],P[1] = P[0] - TA*grad[0] , P[1] - TA*grad[1]\r\n",
        "  plt.plot(P[0],P[1],\"o\",c=\"red\")\r\n",
        "\r\n",
        "plt.plot(P[0],P[1],\"o\",c=\"green\")\r\n",
        "plt.show()\r\n",
        "print(\"Solucion:\" , P , f(P))"
      ],
      "execution_count": null,
      "outputs": [
        {
          "output_type": "display_data",
          "data": {
            "image/png": "[encoded data removed]",
            "text/plain": [
              "<Figure size 432x288 with 2 Axes>"
            ]
          },
          "metadata": {
            "tags": [],
            "needs_background": "light"
          }
        },
        {
          "output_type": "stream",
          "text": [
            "Solucion: [-4.9053944134035435e-49, 9.190478803780825e-51] 2.407134084111497e-97\n"
          ],
          "name": "stdout"
        }
      ]
    },
    {
      "cell_type": "markdown",
      "metadata": {
        "id": "G77G05VR06-Z"
      },
      "source": [
        "Si ahora en vez de hacerlo para la función paraboloide, lo hacemos para la **nueva función**:"
      ]
    },
    {
      "cell_type": "markdown",
      "metadata": {
        "id": "9JXQAHia1-mF"
      },
      "source": [
        "Debido a la complejidad y la dificultad que supone el cálculo de la derivada de dicha función, aproximaremos el valor del gradiente en un punto por su definición:"
      ]
    },
    {
      "cell_type": "code",
      "metadata": {
        "id": "4CwzqGwo1BTe"
      },
      "source": [
        "f_2 = lambda x: np.sin(1/2*x[0]**2-1/4*x[1]**2+3)*np.cos(2*x[0]+1-np.e**x[1])\r\n",
        "def df_2(PUNTO):\r\n",
        "  h = 0.01\r\n",
        "  T = np.copy(PUNTO)\r\n",
        "  grad = np.zeros(2)\r\n",
        "  for it,th in enumerate(PUNTO):\r\n",
        "    T[it] = T[it] + h\r\n",
        "    grad[it] = (f_2(T)-f_2(PUNTO)) / h\r\n",
        "  return grad"
      ],
      "execution_count": null,
      "outputs": []
    },
    {
      "cell_type": "markdown",
      "metadata": {
        "id": "WW35ZnAp2SO2"
      },
      "source": [
        "La preparación de datos para su posterior graficación la llevamos a cabo de forma similar:"
      ]
    },
    {
      "cell_type": "code",
      "metadata": {
        "colab": {
          "base_uri": "https://localhost:8080/",
          "height": 283
        },
        "id": "BMF8Uiz32OmB",
        "outputId": "e70a343d-2391-4831-880c-2ec41e7e06ae"
      },
      "source": [
        "#Prepara los datos para dibujar mapa de niveles de Z\r\n",
        "resolucion = 100 \r\n",
        "rango=2.5\r\n",
        "X=np.linspace(-rango,rango,resolucion) \r\n",
        "Y=np.linspace(-rango,rango,resolucion)\r\n",
        "Z=np.zeros((resolucion,resolucion))\r\n",
        "for ix,x in enumerate(X):\r\n",
        "  for iy,y in enumerate(Y):\r\n",
        "    Z[iy,ix] = f([x,y])\r\n",
        "\r\n",
        "#Pinta el mapa de niveles de Z\r\n",
        "plt.contourf(X,Y,Z,resolucion)\r\n",
        "plt.colorbar() \r\n",
        "\r\n",
        "#Generamos un punto aleatorio\r\n",
        "P=[random.uniform(-2,2  ),random.uniform(-2,2 ) ]\r\n",
        "plt.plot(P[0],P[1],\"o\",c=\"white\")\r\n",
        "\r\n",
        "#Tasa de aprendizaje\r\n",
        "TA=.1 \r\n",
        "\r\n",
        "#Iteraciones\r\n",
        "for _ in range(500):\r\n",
        "  grad = df_2(P)\r\n",
        "  #print(P,grad)\r\n",
        "  P[0],P[1] = P[0] - TA*grad[0] , P[1] - TA*grad[1]\r\n",
        "  plt.plot(P[0],P[1],\"o\",c=\"red\")\r\n",
        "\r\n",
        "plt.plot(P[0],P[1],\"o\",c=\"green\")\r\n",
        "plt.show()\r\n",
        "print(\"Solucion:\" , P , f(P))"
      ],
      "execution_count": null,
      "outputs": [
        {
          "output_type": "display_data",
          "data": {
            "image/png": "[encoded data removed]",
            "text/plain": [
              "<Figure size 432x288 with 2 Axes>"
            ]
          },
          "metadata": {
            "tags": [],
            "needs_background": "light"
          }
        },
        {
          "output_type": "stream",
          "text": [
            "Solucion: [0.2902910349495964, 1.5884347142361555] 2.607393726362605\n"
          ],
          "name": "stdout"
        }
      ]
    }
  ]
}