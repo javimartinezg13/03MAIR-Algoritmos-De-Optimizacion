{
  "nbformat": 4,
  "nbformat_minor": 0,
  "metadata": {
    "colab": {
      "name": "JavierMartinezGarcia - Algoritmos - AG1.ipynb",
      "provenance": [],
      "collapsed_sections": [],
      "authorship_tag": "ABX9TyNt2oMZvuVlGxF846wGAzrF",
      "include_colab_link": true
    },
    "kernelspec": {
      "name": "python3",
      "display_name": "Python 3"
    }
  },
  "cells": [
    {
      "cell_type": "markdown",
      "metadata": {
        "id": "view-in-github",
        "colab_type": "text"
      },
      "source": [
        "<a href=\"https://colab.research.google.com/github/javimartinezg13/03MAIR-Algoritmos-De-Optimizacion/blob/main/JavierMartinezGarcia_Algoritmos_AG1.ipynb\" target=\"_parent\"><img src=\"https://colab.research.google.com/assets/colab-badge.svg\" alt=\"Open In Colab\"/></a>"
      ]
    },
    {
      "cell_type": "markdown",
      "metadata": {
        "id": "9kr6dwfW30Ww"
      },
      "source": [
        "#Algoritmos de optimización - Actividad guiada 1\r\n",
        "\r\n",
        "Nombre: Javier Martínez García\r\n",
        "\r\n",
        "URL: [https://colab.research.google.com/drive/1ZLWBkGLibrk8m6zZvzLB6oY5UzKlyd7v?usp=sharing](https://colab.research.google.com/drive/1ZLWBkGLibrk8m6zZvzLB6oY5UzKlyd7v?usp=sharing)\r\n",
        "\r\n",
        "GitHub: [https://github.com/javimartinezg13/03MAIR-Algoritmos-De-Optimizacion](https://github.com/javimartinezg13/03MAIR-Algoritmos-De-Optimizacion)"
      ]
    },
    {
      "cell_type": "markdown",
      "metadata": {
        "id": "qsg_UYQmz7dO"
      },
      "source": [
        "Realizado al final el algoritmo para encontrar los dos puntos más cercanos."
      ]
    },
    {
      "cell_type": "markdown",
      "metadata": {
        "id": "umdm_mU97aXp"
      },
      "source": [
        "## Torres de Hanoi con Divide y Vencerás:"
      ]
    },
    {
      "cell_type": "code",
      "metadata": {
        "colab": {
          "base_uri": "https://localhost:8080/"
        },
        "id": "6f0OaaPD7fpa",
        "outputId": "319e8876-feb2-4834-9a6f-6136cf391c23"
      },
      "source": [
        "# N: número total de fichas\r\n",
        "# desde: torre de inicio del juego\r\n",
        "# hasta: torre final del juego\r\n",
        "def Torres_Hanoi (N, desde, hasta):\r\n",
        "  if N == 1:\r\n",
        "    print(\"Lleva la ficha \",desde,\" hasta \",hasta)\r\n",
        "  else:\r\n",
        "    Torres_Hanoi(N-1,desde,6-desde-hasta)\r\n",
        "    #Torres_Hanoi(N-1,desde,list({1,2,3}-{desde,hasta})[0])  #resolución con conjuntos con conjuntos\r\n",
        "    print(\"Lleva la ficha \",desde,\" hasta \",hasta)\r\n",
        "    Torres_Hanoi(N-1,6-desde-hasta,hasta)\r\n",
        "    #Torres_Hanoi(N-1,list({1,2,3}-{desde,hasta})[0],hasta)  #resolución con conjuntos con conjuntos\r\n",
        "\r\n",
        "Torres_Hanoi(3,1,3)"
      ],
      "execution_count": null,
      "outputs": [
        {
          "output_type": "stream",
          "text": [
            "Lleva la ficha  1  hasta  3\n",
            "Lleva la ficha  1  hasta  2\n",
            "Lleva la ficha  3  hasta  2\n",
            "Lleva la ficha  1  hasta  3\n",
            "Lleva la ficha  2  hasta  1\n",
            "Lleva la ficha  2  hasta  3\n",
            "Lleva la ficha  1  hasta  3\n"
          ],
          "name": "stdout"
        }
      ]
    },
    {
      "cell_type": "markdown",
      "metadata": {
        "id": "T4AJ7Xan4NuD"
      },
      "source": [
        "## Devolución de cambio por técnica voraz:"
      ]
    },
    {
      "cell_type": "code",
      "metadata": {
        "colab": {
          "base_uri": "https://localhost:8080/"
        },
        "id": "co2ykcHYLrW1",
        "outputId": "def06161-a928-4754-c226-12e9cb1cb1c9"
      },
      "source": [
        "#C: cantidad\r\n",
        "#SM: sistema monetario\r\n",
        "C = int(input('Introduzca la cantidad a devolver: '))\r\n",
        "SM = [25,10,5,1]\r\n",
        "def cambio_monedas (N,SM):\r\n",
        "  SOLUCION = [0]*len(SM) #array con 0's y de longitud cuántas monedas tiene el SM\r\n",
        "  ValorAcumulado = 0\r\n",
        "\r\n",
        "  for i,valor in enumerate(SM):\r\n",
        "    monedas = (N - ValorAcumulado)//valor\r\n",
        "    SOLUCION[i] = monedas\r\n",
        "    ValorAcumulado += monedas*valor\r\n",
        "\r\n",
        "    if N == ValorAcumulado:\r\n",
        "      return SOLUCION\r\n",
        "cambio_monedas(C,SM)\r\n",
        "#pero para otros sistemas monetarios no se trata de la técnica más eficiente [11,5,1]"
      ],
      "execution_count": null,
      "outputs": [
        {
          "output_type": "stream",
          "text": [
            "Introduzca la cantidad a devolver: 137\n"
          ],
          "name": "stdout"
        },
        {
          "output_type": "execute_result",
          "data": {
            "text/plain": [
              "[5, 1, 0, 2]"
            ]
          },
          "metadata": {
            "tags": []
          },
          "execution_count": 12
        }
      ]
    },
    {
      "cell_type": "markdown",
      "metadata": {
        "id": "jEQUhXqKWEy3"
      },
      "source": [
        "## N Reinas por técnica de vuelta atrás:"
      ]
    },
    {
      "cell_type": "code",
      "metadata": {
        "id": "wZRS6pziWKkg",
        "colab": {
          "base_uri": "https://localhost:8080/"
        },
        "outputId": "56c9dc5f-3052-4696-9c09-16de5e1df84e"
      },
      "source": [
        "def escribe(S):\r\n",
        "  n = len(S)\r\n",
        "  for x in range(n):\r\n",
        "    print(\"\")\r\n",
        "    for i in range(n):\r\n",
        "      if S[i] == x+1:\r\n",
        "        print(\" X \" , end=\"\")\r\n",
        "      else:\r\n",
        "        print(\" - \", end=\"\")\r\n",
        "\r\n",
        "def es_prometedora(SOLUCION, etapa):\r\n",
        "  for i in range(etapa + 1):\r\n",
        "    if SOLUCION.count(SOLUCION[i]) > 1:\r\n",
        "      return False\r\n",
        "    \r\n",
        "    for j in range (i+1,etapa + 1):\r\n",
        "      if abs(i-j) == abs(SOLUCION[i]-SOLUCION[j]) : return False\r\n",
        "  return True\r\n",
        "\r\n",
        "\r\n",
        "def reinas (N, solucion = [], etapa = 0):\r\n",
        "  if len(solucion) == 0:\r\n",
        "    solucion = [0 for i in range(N)]\r\n",
        "\r\n",
        "  for i in range (1, N+1):\r\n",
        "    solucion[etapa] = i\r\n",
        "\r\n",
        "    if es_prometedora(solucion,etapa):\r\n",
        "      if etapa == N-1:\r\n",
        "        print(solucion)\r\n",
        "        escribe(solucion)\r\n",
        "        print()\r\n",
        "      else:\r\n",
        "        reinas(N,solucion,etapa+1)\r\n",
        "    else:\r\n",
        "      None\r\n",
        "\r\n",
        "    solucion[etapa] = 0\r\n",
        "\r\n",
        "reinas(6)"
      ],
      "execution_count": null,
      "outputs": [
        {
          "output_type": "stream",
          "text": [
            "[2, 4, 6, 1, 3, 5]\n",
            "\n",
            " -  -  -  X  -  - \n",
            " X  -  -  -  -  - \n",
            " -  -  -  -  X  - \n",
            " -  X  -  -  -  - \n",
            " -  -  -  -  -  X \n",
            " -  -  X  -  -  - \n",
            "[3, 6, 2, 5, 1, 4]\n",
            "\n",
            " -  -  -  -  X  - \n",
            " -  -  X  -  -  - \n",
            " X  -  -  -  -  - \n",
            " -  -  -  -  -  X \n",
            " -  -  -  X  -  - \n",
            " -  X  -  -  -  - \n",
            "[4, 1, 5, 2, 6, 3]\n",
            "\n",
            " -  X  -  -  -  - \n",
            " -  -  -  X  -  - \n",
            " -  -  -  -  -  X \n",
            " X  -  -  -  -  - \n",
            " -  -  X  -  -  - \n",
            " -  -  -  -  X  - \n",
            "[5, 3, 1, 6, 4, 2]\n",
            "\n",
            " -  -  X  -  -  - \n",
            " -  -  -  -  -  X \n",
            " -  X  -  -  -  - \n",
            " -  -  -  -  X  - \n",
            " X  -  -  -  -  - \n",
            " -  -  -  X  -  - \n"
          ],
          "name": "stdout"
        }
      ]
    },
    {
      "cell_type": "markdown",
      "metadata": {
        "id": "NMmktuQdxSLz"
      },
      "source": [
        "## Encontrar los dos puntos más cercanos:"
      ]
    },
    {
      "cell_type": "markdown",
      "metadata": {
        "id": "maAbpGX7sknM"
      },
      "source": [
        "Lo vamos a hacer para el caso en el que tenemos una lista de una única dimensión, es decir, tenemos una lista formada por números:"
      ]
    },
    {
      "cell_type": "code",
      "metadata": {
        "colab": {
          "base_uri": "https://localhost:8080/"
        },
        "id": "ltpjUm8Hx15p",
        "outputId": "29d49ce4-192d-4c85-88a8-9e7c763a903c"
      },
      "source": [
        "import random \r\n",
        "import math\r\n",
        "\r\n",
        "def distancia_dos_puntos(lista,punto_a,punto_b):\r\n",
        "  return abs(lista[punto_a]-lista[punto_b])\r\n",
        "\r\n",
        "def puntos_cercanos_1d (lista):\r\n",
        "  puntos_cercanos = [0,0]\r\n",
        "  posiciones_puntos = [0,0]\r\n",
        "  distancia_minima = math.inf\r\n",
        "  for i in range(len(lista)):\r\n",
        "    for j in range(i+1,len(lista)):\r\n",
        "      distancia_iteracion = distancia_dos_puntos(lista,i,j)\r\n",
        "      if distancia_iteracion < distancia_minima:\r\n",
        "        distancia_minima = distancia_iteracion\r\n",
        "        puntos_cercanos = [lista[i],lista[j]]\r\n",
        "        posiciones_puntos = [i,j]\r\n",
        "  return puntos_cercanos,posiciones_puntos,distancia_minima\r\n",
        "\r\n",
        "lista_1d = list(random.randrange(1,10000) for x in range(1,100))\r\n",
        "pts, pos, min_dis = puntos_cercanos_1d(lista_1d)\r\n",
        "print(\"La distancia mínima es: \", min_dis,\", entre los puntos: \",pts[0],\" y \",pts[1],\r\n",
        "      \", en las posiciones: \",pos[0],\" y \",pos[1],\" respectivamente.\")\r\n"
      ],
      "execution_count": null,
      "outputs": [
        {
          "output_type": "stream",
          "text": [
            "La distancia mínima es:  2 , entre los puntos:  4554  y  4552 , en las posiciones:  7  y  51  respectivamente.\n"
          ],
          "name": "stdout"
        }
      ]
    },
    {
      "cell_type": "markdown",
      "metadata": {
        "id": "tyP9yG1XsrVD"
      },
      "source": [
        "La complejidad cuando resolvemos este algoritmo por fuerza bruta es de **O (n^2)**, ya que tenemos que recorrer la lista de números dos veces para ir comparando una a una las distancias entre todos los pares de números de dicha lista."
      ]
    },
    {
      "cell_type": "markdown",
      "metadata": {
        "id": "nnZ2YgimKIao"
      },
      "source": [
        "Una manera de mejorar dicha complejidad computacional sería si aplicamos una ordenación (nos sirve cualquier algoritmo de ordenación, excepto el Quicksort, cuya complejidad es de O (n^2) y por lo tanto no mejoraría lo anterior).\r\n",
        "Una vez ordenada la lista, podemos aplicar la técnica de **DIVIDE Y VENCERÁS**:"
      ]
    },
    {
      "cell_type": "code",
      "metadata": {
        "colab": {
          "base_uri": "https://localhost:8080/"
        },
        "id": "Ye4QhrGIK3U1",
        "outputId": "8488a554-3923-4aa6-c014-3f4ce04608fd"
      },
      "source": [
        "import numpy as np\r\n",
        "from math import inf\r\n",
        "\r\n",
        "def distancia_puntos_dyv(lista):\r\n",
        "    lista = np.sort(lista, kind='heapsort')\r\n",
        "    return distancia_puntos(lista, 0, lista.size-1)\r\n",
        "\r\n",
        "def distancia(lista, a, b):\r\n",
        "    return abs(lista[a] - lista[b])\r\n",
        "\r\n",
        "def distancia_puntos(lista, linf, lsup):\r\n",
        "    tam = lsup - linf + 1\r\n",
        "    if tam>1:\r\n",
        "        mitad = (linf + lsup) // 2\r\n",
        "        punto_cercano_izq, posiciones_izq, distancia_izq = distancia_puntos(lista, linf, mitad)\r\n",
        "        punto_cercano_der, posiciones_der, distancia_der = distancia_puntos(lista, mitad + 1, lsup)\r\n",
        "        punto_cercano_mitad, posiciones_mitad, distancia_mitad = [lista[mitad],\r\n",
        "                                                                       lista[mitad + 1]], \\\r\n",
        "                                                                      [mitad, mitad + 1], \\\r\n",
        "                                                                      distancia(lista, mitad, mitad + 1)\r\n",
        "        if distancia_izq <= distancia_der:\r\n",
        "            if distancia_der <= distancia_mitad:\r\n",
        "                return punto_cercano_izq, posiciones_izq, distancia_izq\r\n",
        "        elif distancia_der <= distancia_mitad:\r\n",
        "            return punto_cercano_der, posiciones_der, distancia_der\r\n",
        "        return punto_cercano_mitad, posiciones_mitad, distancia_mitad\r\n",
        "    else:\r\n",
        "        return None, None, inf\r\n",
        "\r\n",
        "\r\n",
        "\r\n",
        "lista = np.random.randint(1, 10001, size=100)\r\n",
        "pts, pos, dist = distancia_puntos_dyv(lista)\r\n",
        "print(\"La distancia mínima es:\",dist,\", entre los puntos:\",pts[0],\" y \",pts[1],\r\n",
        "      \", que se encuentran en las posiciones:\",pos[0],\" y \",pos[1],\".\")"
      ],
      "execution_count": null,
      "outputs": [
        {
          "output_type": "stream",
          "text": [
            "La distancia mínima es: 3 , entre los puntos: 5069  y  5072 , que se encuentran en las posiciones: 48  y  49 .\n"
          ],
          "name": "stdout"
        }
      ]
    },
    {
      "cell_type": "markdown",
      "metadata": {
        "id": "Ux89CGMdbv1r"
      },
      "source": [
        "Lo más costoso en este caso va a ser llevar a cabo la ordenación de nuestra lkista, que requiere una complejidad computacional de **O (n * logn)**, que mejora al caso de cuando realizábamos este mismo problema mediante fuerza bruta."
      ]
    },
    {
      "cell_type": "markdown",
      "metadata": {
        "id": "u1f5lY6rzkzk"
      },
      "source": [
        "En el caso de que queramos realizar este mismo procedimiento pero con dos y tres dimensiones lo único que tenemos que cambiar es la forma en la que vamos a calcular las distancias. A la hora de calcular la complejidad computacional nos va a quedar similar que en el caso anterior, cuando tomábamos únicamente una dimensión."
      ]
    }
  ]
}